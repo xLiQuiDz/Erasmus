{
 "cells": [
  {
   "cell_type": "markdown",
   "metadata": {
    "id": "0wzvIu4lkRDm"
   },
   "source": [
    "# Introduction to Python\n",
    "\n",
    "![Good Luck](https://www.memecreator.org/static/images/memes/4888842.jpg)\n",
    "\n",
    "\n",
    "## Python Basics"
   ]
  },
  {
   "cell_type": "code",
   "execution_count": 2,
   "metadata": {},
   "outputs": [],
   "source": [
    "# Question 0:\n",
    "# import pandas as pd and numpy as np.\n"
   ]
  },
  {
   "cell_type": "code",
   "execution_count": 3,
   "metadata": {},
   "outputs": [],
   "source": [
    "# Question 1:\n",
    "# Write a NumPy program to test whether none of the elements of a given array is zero. \n",
    "# Hint: google for np.all\n"
   ]
  },
  {
   "cell_type": "code",
   "execution_count": 4,
   "metadata": {},
   "outputs": [],
   "source": [
    "# Question 2:\n",
    "# Write a NumPy program to test if any of the elements of a given array is non-zero. \n",
    "# Hint: google for similar function to np.all\n"
   ]
  },
  {
   "cell_type": "code",
   "execution_count": 5,
   "metadata": {},
   "outputs": [],
   "source": [
    "# Question 3:\n",
    "# Write a NumPy program to test element-wise for NaN of a given array.\n"
   ]
  },
  {
   "cell_type": "code",
   "execution_count": 6,
   "metadata": {},
   "outputs": [],
   "source": [
    "# Question 4:\n",
    "# Write a NumPy program to create an array of 10 zeros, 10 ones, 10 fives.\n"
   ]
  },
  {
   "cell_type": "code",
   "execution_count": 7,
   "metadata": {},
   "outputs": [],
   "source": [
    "# Question 5:\n",
    "# Write a NumPy program to create an array of the integers from 30 to 70.\n"
   ]
  },
  {
   "cell_type": "code",
   "execution_count": 8,
   "metadata": {},
   "outputs": [],
   "source": [
    "# Question 6:\n",
    "# Write a NumPy program to create an array of all the even integers from 30 to 70.\n"
   ]
  },
  {
   "cell_type": "code",
   "execution_count": 9,
   "metadata": {},
   "outputs": [],
   "source": [
    "# Question 7:\n",
    "# Write a NumPy program to create a vector with values ranging from 15 to 55 and print all values \n",
    "# except the first and last.\n"
   ]
  },
  {
   "cell_type": "code",
   "execution_count": 10,
   "metadata": {},
   "outputs": [],
   "source": [
    "# Question 8:\n",
    "# Write a NumPy program to create a vector with values from 0 to 20 and change the sign of the numbers \n",
    "# in the range from 9 to 15.\n"
   ]
  },
  {
   "cell_type": "code",
   "execution_count": null,
   "metadata": {},
   "outputs": [],
   "source": [
    "# Question 9:\n",
    "# Python program to check whether the given number is even or not. The function should return True \n",
    "# for an even number and false for an odd number.\n",
    "\n",
    "def even_number(x):\n",
    "    # Code here\n",
    "    \n",
    "assert even_number(3) == False\n",
    "assert even_number(5) == False\n",
    "assert even_number(10) == True"
   ]
  },
  {
   "cell_type": "code",
   "execution_count": null,
   "metadata": {},
   "outputs": [],
   "source": [
    "# Question 10:\n",
    "# Write a function that take a 2D points and a list of 2 points (in an 2D numpy array format) \n",
    "# and return the index of the closest point in the list (according to euclidian distance)\n",
    "\n",
    "def get_closest(point, points):\n",
    "    # Code here\n",
    "    \n",
    "assert get_closest(np.array([0.1, 0.5]), np.array([[0.2, 0.4],[0.1, 0.2],[0.5, 0.0]])) == 0\n",
    "assert get_closest(np.array([5.1, 4.3]), np.array([[0.2, 0.4],[6.1, 4.2],[0.5, 0.0]])) == 1\n",
    "assert get_closest(np.array([3.1, 2.0]), np.array([[0.2, 0.4],[6.1, 4.2],[3.0, 2.0]])) == 2"
   ]
  },
  {
   "cell_type": "code",
   "execution_count": null,
   "metadata": {},
   "outputs": [],
   "source": [
    "# Question 11:\n",
    "# Write a function that does the min-max scale the values of an array between 0 and 1.\n",
    "\n",
    "from numpy.testing import assert_equal\n",
    "\n",
    "def scale(array):\n",
    "    # Code here\n",
    "\n",
    "assert_equal(scale([-2, 0, 2, 4]), [0, 1/3, 2/3, 1.])\n",
    "assert_equal(scale([1, 3, 2, 5]), [0, 1/2, 1/4, 1.])"
   ]
  },
  {
   "cell_type": "code",
   "execution_count": null,
   "metadata": {},
   "outputs": [],
   "source": [
    "# Question 12:\n",
    "# What does the following return?\n",
    "\n",
    "[1, 2] + [1, 2]"
   ]
  },
  {
   "cell_type": "code",
   "execution_count": null,
   "metadata": {},
   "outputs": [],
   "source": [
    "# Question 13:\n",
    "# Write a function that return the third greatest element\n",
    "\n",
    "def get_third_greatest(x):\n",
    "    # Code here\n",
    "    \n",
    "assert get_third_greatest([82, 57, 65, 81, 99, 85, 98, 91, 33, 48])  == 91\n",
    "assert get_third_greatest([-1, 42, -25, 38, -12])  == -1"
   ]
  },
  {
   "cell_type": "code",
   "execution_count": null,
   "metadata": {},
   "outputs": [],
   "source": [
    "# Question 14:\n",
    "# Select all elements greater than 10 and smaller than 70\n",
    "\n",
    "def select(x):\n",
    "    # Code here\n",
    "\n",
    "assert select([82, 57, 65, 81, 99, 85, 98, 91, 33, 48]) == [57, 65, 33, 48]"
   ]
  },
  {
   "cell_type": "markdown",
   "metadata": {},
   "source": [
    "## Python for Data Science"
   ]
  },
  {
   "cell_type": "code",
   "execution_count": 20,
   "metadata": {},
   "outputs": [],
   "source": [
    "# Dataframe to work with\n",
    "df = pd.DataFrame(data = [[3, 7, 'Friday', 'Mary'],\n",
    "                          [2, 2, 'Tuesday', 'Mary'],\n",
    "                          [6, 4, 'Friday', 'Mary'],\n",
    "                          [3, 5, 'Tuesday', 'Mary'],\n",
    "                          [1, 2, 'Friday', 'Mary'],\n",
    "                          [9, 5, 'Friday', 'Mary'],\n",
    "                          [3, 1, 'Friday', 'John'],\n",
    "                          [9, 6, 'Tuesday', 'John'],\n",
    "                          [4, 2, 'Monday', 'Mary'],\n",
    "                          [1, 8, 'Friday', 'John']], \n",
    "                  columns = ['price_per_unit', 'nb_units', 'day', 'players'])"
   ]
  },
  {
   "cell_type": "code",
   "execution_count": null,
   "metadata": {},
   "outputs": [],
   "source": [
    "# Question 15:\n",
    "# How much money did John spend?\n"
   ]
  },
  {
   "cell_type": "code",
   "execution_count": 17,
   "metadata": {},
   "outputs": [],
   "source": [
    "# Question 16:\n",
    "# How much money did each player spend each day?\n"
   ]
  },
  {
   "cell_type": "code",
   "execution_count": 18,
   "metadata": {
    "id": "sz6mID-9kRDs"
   },
   "outputs": [],
   "source": [
    "exam_data  = {'name': ['Anastasia', 'Dima', 'Katherine', 'James', 'Emily', 'Michael', 'Matthew', 'Laura', 'Kevin', 'Jonas'],\n",
    "              'score': [12.5, 9, 16.5, np.nan, 9, 20, 14.5, np.nan, 8, 19],\n",
    "              'attempts': [1, 3, 2, 3, 2, 3, 1, 1, 2, 1],\n",
    "              'qualify': ['yes', 'no', 'yes', 'no', 'no', 'yes', 'yes', 'no', 'no', 'yes']}\n",
    "\n",
    "# output:\n",
    "#        name  score  attempts qualify\n",
    "#0  Anastasia   12.5         1     yes\n",
    "#1       Dima    9.0         3      no\n",
    "#2  Katherine   16.5         2     yes\n",
    "#3      James    NaN         3      no\n",
    "#4      Emily    9.0         2      no\n",
    "#5    Michael   20.0         3     yes\n",
    "#6    Matthew   14.5         1     yes\n",
    "#7      Laura    NaN         1      no\n",
    "#8      Kevin    8.0         2      no\n",
    "#9      Jonas   19.0         1     yes"
   ]
  },
  {
   "cell_type": "code",
   "execution_count": 19,
   "metadata": {
    "id": "zP4jFvT7kRDt"
   },
   "outputs": [],
   "source": [
    "# create a new dataframe that uses the labels below as index ('name' of each row)\n",
    "labels = ['a', 'b', 'c', 'd', 'e', 'f', 'g', 'h', 'i', 'j']\n",
    "\n",
    "# Code here\n",
    "\n",
    "\n",
    "# desired output:\n",
    "#   attempts       name qualify  score                                  \n",
    "#a         1  Anastasia     yes   12.5                                  \n",
    "#b         3       Dima      no    9.0                                  \n",
    "#c         2  Katherine     yes   16.5                                  \n",
    "#d         3      James      no    NaN                                  \n",
    "#e         2      Emily      no    9.0                                  \n",
    "#f         3    Michael     yes   20.0                                  \n",
    "#g         1    Matthew     yes   14.5                                  \n",
    "#h         1      Laura      no    NaN                                  \n",
    "#i         2      Kevin      no    8.0                                  \n",
    "#j         1      Jonas     yes   19.0            "
   ]
  },
  {
   "cell_type": "code",
   "execution_count": null,
   "metadata": {
    "id": "eoSVjxZAkRDt"
   },
   "outputs": [],
   "source": [
    "# Fill the empty null values of the score column with 0\n"
   ]
  },
  {
   "cell_type": "code",
   "execution_count": null,
   "metadata": {
    "id": "xmUxSi_4kRDu"
   },
   "outputs": [],
   "source": [
    "# Write a Pandas program to change the score in row 'd' to 11.5"
   ]
  },
  {
   "cell_type": "code",
   "execution_count": null,
   "metadata": {
    "id": "abWj4vP8kRDu"
   },
   "outputs": [],
   "source": [
    "# Write a Pandas program to calculate the sum of the examination attempts by all students. (like with numpy)\n"
   ]
  },
  {
   "cell_type": "code",
   "execution_count": null,
   "metadata": {
    "id": "slhHZ6pMkRDu"
   },
   "outputs": [],
   "source": [
    "# Write a Pandas program to calculate the mean score in the DataFrame\n"
   ]
  },
  {
   "cell_type": "code",
   "execution_count": null,
   "metadata": {
    "id": "XYd286kfkRDu"
   },
   "outputs": [],
   "source": [
    "# Write a Pandas program to sort the data frame first by 'name' in descending order\n"
   ]
  },
  {
   "cell_type": "code",
   "execution_count": null,
   "metadata": {
    "id": "KHkz4oyDkRDu"
   },
   "outputs": [],
   "source": []
  },
  {
   "cell_type": "markdown",
   "metadata": {
    "id": "61OfucNnkRDv"
   },
   "source": [
    "6. Write a Pandas program to calculate the mean score in the DataFrame"
   ]
  },
  {
   "cell_type": "code",
   "execution_count": null,
   "metadata": {
    "id": "weh5KImQkRDv"
   },
   "outputs": [],
   "source": [
    "import pandas as pd\n",
    "import numpy as np\n",
    "exam_data  = {'name': ['Anastasia', 'Dima', 'Katherine', 'James', 'Emily', 'Michael', 'Matthew', 'Laura', 'Kevin', 'Jonas'],\n",
    "        'score': [12.5, 9, 16.5, np.nan, 9, 20, 14.5, np.nan, 8, 19],\n",
    "        'attempts': [1, 3, 2, 3, 2, 3, 1, 1, 2, 1],\n",
    "        'qualify': ['yes', 'no', 'yes', 'no', 'no', 'yes', 'yes', 'no', 'no', 'yes']}\n",
    "labels = ['a', 'b', 'c', 'd', 'e', 'f', 'g', 'h', 'i', 'j']\n",
    "df = pd.DataFrame(exam_data , index=labels)\n",
    "\n",
    "# desired: \n",
    "#        name  score  attempts qualify\n",
    "#a  Anastasia   12.5         1     yes\n",
    "#b       Dima    9.0         3      no\n",
    "#c  Katherine   16.5         2     yes\n",
    "#d      James    NaN         3      no\n",
    "#e      Emily    9.0         2      no\n",
    "#f    Michael   20.0         3     yes\n",
    "#g    Matthew   14.5         1     yes\n",
    "#h      Laura    NaN         1      no\n",
    "#i      Kevin    8.0         2      no\n",
    "#j      Jonas   19.0         1     yes"
   ]
  },
  {
   "cell_type": "markdown",
   "metadata": {
    "id": "zCrTz2zekRDv"
   },
   "source": [
    "8. Write a Pandas program to sort the data frame first by 'name' in descending order, then by 'score' in ascending order."
   ]
  },
  {
   "cell_type": "code",
   "execution_count": null,
   "metadata": {
    "id": "JxnYZiiakRDw"
   },
   "outputs": [],
   "source": []
  },
  {
   "cell_type": "markdown",
   "metadata": {
    "id": "teDUxdSckRDw"
   },
   "source": [
    "9. Write a Pandas program to rename columns of a given DataFrame."
   ]
  },
  {
   "cell_type": "code",
   "execution_count": null,
   "metadata": {
    "id": "tS1W5JVgkRDw"
   },
   "outputs": [],
   "source": [
    "import pandas as pd\n",
    "d = {'col1': [1, 2, 3], 'col2': [4, 5, 6], 'col3': [7, 8, 9]}\n",
    "df = pd.DataFrame(data=d)\n",
    "\n",
    "columns = ['Column1', 'Column2', 'Column3']\n",
    "\n",
    "# desired:\n",
    "#New DataFrame after renaming columns:\n",
    "#   Column1  Column2  Column3\n",
    "#0        1        4        7\n",
    "#1        2        5        8\n",
    "#2        3        6        9 "
   ]
  },
  {
   "cell_type": "markdown",
   "metadata": {
    "id": "LqSrvrsjkRDw"
   },
   "source": [
    "10. Write a Pandas program to get the columns and shape of the DataFrame (movies_metadata.csv file)."
   ]
  },
  {
   "cell_type": "code",
   "execution_count": null,
   "metadata": {
    "id": "VTSDNy3BkRDx"
   },
   "outputs": [],
   "source": []
  },
  {
   "cell_type": "markdown",
   "metadata": {
    "id": "RtEQmE-1kRDx"
   },
   "source": [
    "11. Also get the original title of the third movie "
   ]
  },
  {
   "cell_type": "code",
   "execution_count": null,
   "metadata": {
    "id": "DHFS-6hmkRDx"
   },
   "outputs": [],
   "source": [
    "# desired output: Grumpier Old Men"
   ]
  },
  {
   "cell_type": "markdown",
   "metadata": {
    "id": "cExPf8F8kRDx"
   },
   "source": [
    "12. Get a subset of the columns"
   ]
  },
  {
   "cell_type": "code",
   "execution_count": null,
   "metadata": {
    "id": "L6D8LMKekRDx"
   },
   "outputs": [],
   "source": [
    "cols = ['title', 'release_date', 'budget', 'revenue', 'runtime']"
   ]
  },
  {
   "cell_type": "markdown",
   "metadata": {
    "id": "Y5VbAEm0kRDy"
   },
   "source": [
    "13. Write a Pandas program to access those movies,released after '1995-01-01'"
   ]
  },
  {
   "cell_type": "code",
   "execution_count": null,
   "metadata": {
    "id": "4lP-mlrykRDy"
   },
   "outputs": [],
   "source": []
  },
  {
   "cell_type": "markdown",
   "metadata": {
    "id": "TfW7hrxdkRDy"
   },
   "source": [
    "14. Write a Pandas program to display the movies (title, number of votes) that over 500 votes"
   ]
  },
  {
   "cell_type": "code",
   "execution_count": null,
   "metadata": {
    "id": "HptH7IROkRDy"
   },
   "outputs": [],
   "source": [
    "# desired output: \n",
    "#                             title  vote_count\n",
    "#0                        Toy Story        5415\n",
    "#1                          Jumanji        2413\n",
    "#5                             Heat        1886\n",
    "#9                        GoldenEye        1194\n",
    "#15                          Casino        1343\n",
    "#17                      Four Rooms         539\n",
    "#18  Ace Ventura: When Nature Calls        1128\n",
    "#31                  Twelve Monkeys        2470\n",
    "#33                            Babe         756\n",
    "#38                        Clueless         828\n",
    "#46                           Se7en        5915\n",
    "#47                      Pocahontas        1509\n",
    "#49              The Usual Suspects        3334"
   ]
  },
  {
   "cell_type": "code",
   "execution_count": null,
   "metadata": {
    "id": "KC3Bl4b7kRDz"
   },
   "outputs": [],
   "source": []
  },
  {
   "cell_type": "code",
   "execution_count": null,
   "metadata": {},
   "outputs": [],
   "source": []
  },
  {
   "cell_type": "code",
   "execution_count": null,
   "metadata": {},
   "outputs": [],
   "source": []
  },
  {
   "cell_type": "code",
   "execution_count": null,
   "metadata": {},
   "outputs": [],
   "source": []
  },
  {
   "cell_type": "code",
   "execution_count": null,
   "metadata": {},
   "outputs": [],
   "source": []
  },
  {
   "cell_type": "code",
   "execution_count": 21,
   "metadata": {
    "id": "j_Hxub-xkRD0",
    "outputId": "f6b31cd8-c13d-47c8-d645-02fe11708e9a"
   },
   "outputs": [
    {
     "data": {
      "image/png": "[encoded data removed]",
      "text/plain": [
       "<Figure size 432x288 with 1 Axes>"
      ]
     },
     "metadata": {
      "needs_background": "light"
     },
     "output_type": "display_data"
    }
   ],
   "source": [
    "import matplotlib.pyplot as plt\n",
    "\n",
    "%matplotlib inline\n",
    "#%matplotlib inline sets the backend of matplotlib to the 'inline' backend: \n",
    "#With this backend, the output of plotting commands is displayed inline within frontends \n",
    "#like the Jupyter notebook, directly below the code cell that produced it.\n",
    "\n",
    "plt.plot([1, 2, 3, 4])\n",
    "plt.ylabel('some numbers')\n",
    "plt.show()"
   ]
  },
  {
   "cell_type": "code",
   "execution_count": null,
   "metadata": {
    "id": "2D_kakjykRD0",
    "outputId": "9511fdc0-5f5b-492a-f5d8-10a21f0e3a1b"
   },
   "outputs": [],
   "source": [
    "# Draw two sets of points\n",
    "plt.plot([1,2,3,4,5], [1,2,3,4,10], 'go')  # green dots\n",
    "plt.plot([1,2,3,4,5], [2,3,4,5,11], 'b*')  # blue stars\n",
    "plt.show()\n",
    "\n",
    "# some exercises:\n",
    "# add titles and axis labels to this plot\n",
    "# also try to change to dimensions of the figure to 4x4 (inch)\n",
    "# google to add labels to each set of points and add a legend as well\n",
    "# change the displayed ranges for the x and y axes to [0, 6] and [0, 11], respectively ( google :-) )\n",
    "# "
   ]
  },
  {
   "cell_type": "code",
   "execution_count": null,
   "metadata": {
    "id": "wEfaqxgtkRD0"
   },
   "outputs": [],
   "source": [
    "# You can also add subplots within one figure\n",
    "\n",
    "# new figure\n",
    "plt.figure(figsize=(10,4), dpi=120)\n",
    "\n",
    "\n",
    "# Left hand side plot\n",
    "plt.subplot(1,2,1)# (nRows, nColumns, axes number to plot)\n",
    "# 10 is width, 4 is height\n",
    "# now plot x= [1,2,3,4,5] and y = [1,2,3,4,10] using green dots\n",
    "# specify the title of the subplot to 'Scatterplot Greendots'\n",
    "# Label the X-axis  \"X\" and Y-axis \"Y\"\n",
    "# specify the limits of the X-axis to [0,6] and the Y-axis to [0, 12]\n",
    "\n",
    "# Right hand side plot\n",
    "plt.subplot(1,2,2)  # (nRows, nColumns, axes number to plot)\n",
    "# now plot x= [1,2,3,4,5] and y = [2,3,4,5,11] using blue stars\n",
    "# specify the title of the subplot to 'Scatterplot Bluestars'\n",
    "# Label the X-axis  \"X\" and Y-axis \"Y\"\n",
    "# specify the limits of the X-axis to [0,6] and the Y-axis to [0, 12]\n",
    "\n",
    "# only show after all plots are rendered\n",
    "plt.show()"
   ]
  },
  {
   "cell_type": "markdown",
   "metadata": {
    "id": "9ajEqfuikRD0"
   },
   "source": [
    "### Taking Matplotlib to the higher level: seaborn"
   ]
  },
  {
   "cell_type": "code",
   "execution_count": null,
   "metadata": {
    "id": "-J8EjKG1kRD1"
   },
   "outputs": [],
   "source": [
    "import seaborn as sns\n",
    "sns.set_style(\"white\")\n",
    "sns.set()\n",
    "# Check out the gallery: https://seaborn.pydata.org/examples/index.html"
   ]
  },
  {
   "cell_type": "code",
   "execution_count": null,
   "metadata": {
    "id": "Y3G3jn-mkRD1",
    "outputId": "851c1ebf-0f9e-42d1-8f26-0feb7077d999"
   },
   "outputs": [],
   "source": [
    "iris = sns.load_dataset(\"iris\")\n",
    "iris.head()"
   ]
  },
  {
   "cell_type": "code",
   "execution_count": null,
   "metadata": {
    "id": "qxQ56olikRD1",
    "outputId": "473de03e-5ff7-4189-f863-9b8f352b88b4"
   },
   "outputs": [],
   "source": [
    "# Check out distributions for each variable per species\n",
    "# What can we deduct from this type of plotting?\n",
    "\n",
    "sns.pairplot(iris, hue='species', size=2.5);"
   ]
  },
  {
   "cell_type": "code",
   "execution_count": 22,
   "metadata": {
    "id": "05Bvd8w7kRD1"
   },
   "outputs": [],
   "source": [
    "# Create a box plot of the sepal_length column for each species"
   ]
  },
  {
   "cell_type": "code",
   "execution_count": null,
   "metadata": {
    "id": "EuQyxuhUkRD2"
   },
   "outputs": [],
   "source": [
    "# Create a distplot (histogram) of the sepal_width"
   ]
  },
  {
   "cell_type": "code",
   "execution_count": null,
   "metadata": {
    "id": "oHBcbrZqkRD2"
   },
   "outputs": [],
   "source": [
    "# Create 2 scatter plots of 1) sepal_length, sepal_width and 2) petal_length, petal_width"
   ]
  }
 ],
 "metadata": {
  "colab": {
   "collapsed_sections": [
    "tgbsJXUxkRDz",
    "9ajEqfuikRD0",
    "_XC2NKpbkRD5"
   ],
   "name": "EHB Data science 1.ipynb",
   "provenance": []
  },
  "kernelspec": {
   "display_name": "Python 3 (ipykernel)",
   "language": "python",
   "name": "python3"
  },
  "language_info": {
   "codemirror_mode": {
    "name": "ipython",
    "version": 3
   },
   "file_extension": ".py",
   "mimetype": "text/x-python",
   "name": "python",
   "nbconvert_exporter": "python",
   "pygments_lexer": "ipython3",
   "version": "3.9.12"
  },
  "toc": {
   "base_numbering": 1,
   "nav_menu": {},
   "number_sections": true,
   "sideBar": true,
   "skip_h1_title": false,
   "title_cell": "Table of Contents",
   "title_sidebar": "Contents",
   "toc_cell": false,
   "toc_position": {},
   "toc_section_display": true,
   "toc_window_display": false
  }
 },
 "nbformat": 4,
 "nbformat_minor": 4
}
