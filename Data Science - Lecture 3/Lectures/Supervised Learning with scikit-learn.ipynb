{
 "cells": [
  {
   "cell_type": "markdown",
   "id": "3605f78e",
   "metadata": {},
   "source": [
    "# Supervised Learning with scikit-learn\n",
    "In this exercise, you will build your first classification model using the churn_df dataset, which has been preloaded for the remainder of the chapter."
   ]
  },
  {
   "cell_type": "code",
   "execution_count": null,
   "id": "09cad2d7",
   "metadata": {},
   "outputs": [],
   "source": []
  }
 ],
 "metadata": {
  "kernelspec": {
   "display_name": "Python 3 (ipykernel)",
   "language": "python",
   "name": "python3"
  },
  "language_info": {
   "codemirror_mode": {
    "name": "ipython",
    "version": 3
   },
   "file_extension": ".py",
   "mimetype": "text/x-python",
   "name": "python",
   "nbconvert_exporter": "python",
   "pygments_lexer": "ipython3",
   "version": "3.9.12"
  }
 },
 "nbformat": 4,
 "nbformat_minor": 5
}
