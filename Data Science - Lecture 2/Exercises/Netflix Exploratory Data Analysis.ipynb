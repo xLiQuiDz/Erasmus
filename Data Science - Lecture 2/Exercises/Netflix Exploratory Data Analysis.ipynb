{
 "cells": [
  {
   "cell_type": "markdown",
   "id": "894ce2bc",
   "metadata": {},
   "source": [
    "# Netflix Exploratory Data Analysis\n",
    "\n",
    "![Netflix](https://assets.datacamp.com/production/project_1237/img/netflix.jpg)"
   ]
  },
  {
   "cell_type": "markdown",
   "id": "44975d6d",
   "metadata": {},
   "source": [
    "Netflix! What started in 1997 as a DVD rental service has since exploded into the largest entertainment/media company by [market capitalization](https://www.marketwatch.com/story/netflix-shares-close-up-8-for-yet-another-record-high-2020-07-10) boasting over 200 million subscribers as of [January 2021](https://www.cbsnews.com/news/netflix-tops-200-million-subscribers-but-faces-growing-challenge-from-disney-plus/). Given the large number of movies and series available on the platform, it is a perfect opportunity to flex our data manipulation skills and dive into the entertainment industry. Our friend has also been brushing up on their Python skills and has taken a first crack at a CSV file containing Netflix data. For their first order of business, they have been performing some analyses, and they believe that the average duration of movies has been declining.\n",
    "\n",
    "As evidence of this, they have provided us with the following information. For the years from 2011 to 2020, the average movie durations are 103, 101, 99, 100, 100, 95, 95, 96, 93, and 90, respectively. If we're going to be working with this data, we know a good place to start would be to probably start working with `pandas`. But first we'll need to create a DataFrame from scratch."
   ]
  },
  {
   "cell_type": "code",
   "execution_count": null,
   "id": "927228bb",
   "metadata": {},
   "outputs": [],
   "source": [
    "# Create the years and durations lists\n",
    "years = ...\n",
    "durations = ...\n",
    "\n",
    "# Create a dictionary with the two lists\n",
    "movie_dict = ...\n",
    "\n",
    "# Print the dictionary\n",
    "movie_dict"
   ]
  },
  {
   "cell_type": "markdown",
   "id": "04c536fb",
   "metadata": {},
   "source": [
    "## 2. Creating a DataFrame from a dictionary\n",
    "To convert our dictionary `movie_dict` to a `pandas` DataFrame, we will first need to import the library under its usual alias. We'll also want to inspect our DataFrame to ensure it was created correctly. Let's perform these steps now."
   ]
  },
  {
   "cell_type": "code",
   "execution_count": null,
   "id": "8ede11cf",
   "metadata": {},
   "outputs": [],
   "source": [
    "# Import pandas under its usual alias\n",
    "...\n",
    "\n",
    "# Create a DataFrame from the dictionary\n",
    "durations_df = ...\n",
    "\n",
    "# Print the DataFrame\n",
    "..."
   ]
  },
  {
   "cell_type": "markdown",
   "id": "f970efc1",
   "metadata": {},
   "source": [
    "## 3. A visual inspection of our data\n",
    "Alright, we now have a `pandas` DataFrame, the most common way to work with tabular data in Python. Now back to the task at hand. We want to follow up on our friend's assertion that movie lengths have been decreasing over time. A great place to start will be a visualization of the data.\n",
    "Given that the data is continuous, a line plot would be a good choice, with the dates represented along the x-axis and the average length in minutes along the y-axis. This will allow us to easily spot any trends in movie durations. There are many ways to visualize data in Python, but `matploblib.pyplot` is one of the most common packages to do so.\n",
    "\n",
    "**Note:** In order for us to correctly test your plot, you will need to initalize a `matplotlib.pyplot` Figure object, which we have already provided in the cell below."
   ]
  },
  {
   "cell_type": "code",
   "execution_count": null,
   "id": "ac55de48",
   "metadata": {},
   "outputs": [],
   "source": [
    "# Import matplotlib.pyplot under its usual alias and create a figure\n",
    "...\n",
    "fig = plt.figure(figsize=(12,8))\n",
    "\n",
    "# Draw a line plot of release_years and durations\n",
    "...\n",
    "\n",
    "# Create a title\n",
    "...\n",
    "\n",
    "# Show the plot\n",
    "..."
   ]
  },
  {
   "cell_type": "markdown",
   "id": "25d3386b",
   "metadata": {},
   "source": [
    "## 4. Loading the rest of the data from a CSV\n",
    "Well, it looks like there is something to the idea that movie lengths have decreased over the past ten years! But equipped only with our friend's aggregations, we're limited in the further explorations we can perform. There are a few questions about this trend that we are currently unable to answer, including:\n",
    "\n",
    "- What does this trend look like over a longer period of time?</li>\n",
    "- Is this explainable by something like the genre of entertainment?</li>\n",
    "\n",
    "Upon asking our friend for the original CSV they used to perform their analyses, they gladly oblige and send it. We now have access to the CSV file, available at the link `https://raw.githubusercontent.com/xLiQuiDz/Erasmus/main/Data%20Science%20-%20Lecture%202/Datasets/netflix_data.csv`. Let's create another DataFrame, this time with all of the data. Given the length of our friend's data, printing the whole DataFrame is probably not a good idea, so we will inspect it by printing only the first five rows."
   ]
  },
  {
   "cell_type": "code",
   "execution_count": null,
   "id": "e877eeae",
   "metadata": {},
   "outputs": [],
   "source": [
    "# Read in the CSV as a DataFrame\n",
    "netflix_df = ...\n",
    "\n",
    "# Print the first five rows of the DataFrame\n",
    "..."
   ]
  },
  {
   "cell_type": "markdown",
   "id": "dbdd7ce1",
   "metadata": {},
   "source": [
    "## 5. Filtering for movies!\n",
    "Okay, we have our data! Now we can dive in and start looking at movie lengths.\n",
    "Or can we? Looking at the first five rows of our new DataFrame, we notice a column `type`. Scanning the column, it's clear there are also TV shows in the dataset! Moreover, the `duration` column we planned to use seems to represent different values depending on whether the row is a movie or a show (perhaps the number of minutes versus the number of seasons)?\n",
    "Fortunately, a DataFrame allows us to filter data quickly, and we can select rows where `type` is `Movie`. While we're at it, we don't need information from all of the columns, so let's create a new DataFrame `netflix_movies`containing only `title`, `country`, `genre`, `release_year`, and `duration`. Let's put our data subsetting skills to work!"
   ]
  },
  {
   "cell_type": "code",
   "execution_count": null,
   "id": "95c56582",
   "metadata": {},
   "outputs": [],
   "source": [
    "# Subset the DataFrame for type \"Movie\"\n",
    "netflix_df_movies_only = ...\n",
    "\n",
    "# Select only the columns of interest\n",
    "netflix_movies_col_subset = ...\n",
    "\n",
    "# Print the first five rows of the new DataFrame\n",
    "..."
   ]
  },
  {
   "cell_type": "markdown",
   "id": "a181a6f3",
   "metadata": {},
   "source": [
    "## 6. Creating a scatter plot\n",
    "Okay, now we're getting somewhere. We've read in the raw data, selected rows of movies, and have limited our DataFrame to our columns of interest. Let's try visualizing the data again to inspect the data over a longer range of time.\n",
    "This time, we are no longer working with aggregates but instead with individual movies. A line plot is no longer a good choice for our data, so let's try a scatter plot instead. We will again plot the year of release on the x-axis and the movie duration on the y-axis.\n",
    "\n",
    "**Note:** Although not taught in Intermediate Python, we have provided you the code `fig = plt.figure(figsize=(12,8))` to increase the size of the plot (to help you see the results), as well as to assist with testing."
   ]
  },
  {
   "cell_type": "code",
   "execution_count": null,
   "id": "1dc5aca9",
   "metadata": {},
   "outputs": [],
   "source": [
    "# Create a figure and increase the figure size\n",
    "fig = plt.figure(figsize=(12,8))\n",
    "\n",
    "# Create a scatter plot of duration versus year\n",
    "...\n",
    "\n",
    "# Create a title\n",
    "...\n",
    "\n",
    "# Show the plot\n",
    "..."
   ]
  },
  {
   "cell_type": "markdown",
   "id": "f92cbee4",
   "metadata": {},
   "source": [
    "## 7. Digging deeper\n",
    "This is already much more informative than the simple plot we created when our friend first gave us some data. We can also see that, while newer movies are overrepresented on the platform, many short movies have been released in the past two decades.\n",
    "Upon further inspection, something else is going on. Some of these films are under an hour long! Let's filter our DataFrame for movies with a `duration` under 60 minutes and look at the genres. This might give us some insight into what is dragging down the average."
   ]
  },
  {
   "cell_type": "code",
   "execution_count": null,
   "id": "80991006",
   "metadata": {},
   "outputs": [],
   "source": [
    "# Filter for durations shorter than 60 minutes\n",
    "short_movies = ...\n",
    "\n",
    "# Print the first 20 rows of short_movies\n",
    "..."
   ]
  },
  {
   "cell_type": "markdown",
   "id": "b5b41c01",
   "metadata": {},
   "source": [
    "## 8. Marking non-feature films\n",
    "Interesting! It looks as though many of the films that are under 60 minutes fall into genres such as \"Children\", \"Stand-Up\", and \"Documentaries\". This is a logical result, as these types of films are probably often shorter than 90 minute Hollywood blockbuster.\n",
    "We could eliminate these rows from our DataFrame and plot the values again. But another interesting way to explore the effect of these genres on our data would be to plot them, but mark them with a different color.\n",
    "In Python, there are many ways to do this, but one fun way might be to use a loop to generate a list of colors based on the contents of the `genre` column. Much as we did in Intermediate Python, we can then pass this list to our plotting function in a later step to color all non-typical genres in a different color!\n",
    "\n",
    "**Note:** Although we are using the basic colors of red, blue, green, and black, `matplotlib` has many named colors you can use when creating plots."
   ]
  },
  {
   "cell_type": "code",
   "execution_count": null,
   "id": "15ca78c5",
   "metadata": {},
   "outputs": [],
   "source": [
    "# Define an empty list\n",
    "colors = ...\n",
    "\n",
    "# Iterate over rows of netflix_movies_col_subset\n",
    "for ..., ... in ... :\n",
    "    if ... :\n",
    "        ...\n",
    "    elif ... :\n",
    "        ...\n",
    "    elif ... :\n",
    "        ...\n",
    "    else:\n",
    "        ...\n",
    "        \n",
    "# Inspect the first 10 values in your list        \n",
    "..."
   ]
  },
  {
   "cell_type": "markdown",
   "id": "7df3f776",
   "metadata": {},
   "source": [
    "## 9. Plotting with color!\n",
    "Lovely looping! We now have a `colors` list that we can pass to our scatter plot, which should allow us to visually inspect whether these genres might be responsible for the decline in the average duration of movies.\n",
    "This time, we'll also spruce up our plot with some additional axis labels and a new theme with `plt.style.use()`. The latter isn't taught in Intermediate Python, but can be a fun way to add some visual flair to a basic `matplotlib` plot."
   ]
  },
  {
   "cell_type": "code",
   "execution_count": null,
   "id": "8b24945a",
   "metadata": {},
   "outputs": [],
   "source": [
    "# Set the figure style and initalize a new figure\n",
    "plt.style.use('fivethirtyeight')\n",
    "fig = plt.figure(figsize=(12,8))\n",
    "\n",
    "# Create a scatter plot of duration versus release_year\n",
    "...\n",
    "\n",
    "# Create a title and axis labels\n",
    "...\n",
    "...\n",
    "...\n",
    "\n",
    "# Show the plot\n",
    "..."
   ]
  },
  {
   "cell_type": "markdown",
   "id": "493dc4b3",
   "metadata": {},
   "source": [
    "## 10. What next?\n",
    "Well, as we suspected, non-typical genres such as children's movies and documentaries are all clustered around the bottom half of the plot. But we can't know for certain until we perform additional analyses.\n",
    "Congratulations, you've performed an exploratory analysis of some entertainment data, and there are lots of fun ways to develop your skills as a Pythonic data scientist. These include learning how to analyze data further with statistics, creating more advanced visualizations, and perhaps most importantly, learning more advanced ways of working with data in `pandas`."
   ]
  },
  {
   "cell_type": "code",
   "execution_count": null,
   "id": "5edd328d",
   "metadata": {},
   "outputs": [],
   "source": [
    "# Are we certain that movies are getting shorter?\n",
    "are_movies_getting_shorter = ..."
   ]
  }
 ],
 "metadata": {
  "kernelspec": {
   "display_name": "Python 3 (ipykernel)",
   "language": "python",
   "name": "python3"
  },
  "language_info": {
   "codemirror_mode": {
    "name": "ipython",
    "version": 3
   },
   "file_extension": ".py",
   "mimetype": "text/x-python",
   "name": "python",
   "nbconvert_exporter": "python",
   "pygments_lexer": "ipython3",
   "version": "3.9.12"
  }
 },
 "nbformat": 4,
 "nbformat_minor": 5
}
