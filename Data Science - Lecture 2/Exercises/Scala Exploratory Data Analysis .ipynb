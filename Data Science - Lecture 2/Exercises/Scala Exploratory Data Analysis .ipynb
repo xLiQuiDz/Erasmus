{
 "cells": [
  {
   "cell_type": "markdown",
   "id": "4ddcd3e7",
   "metadata": {},
   "source": [
    "# Scala Exploratory Data Analysis\n",
    "![Scala](https://upload.wikimedia.org/wikipedia/commons/thumb/3/39/Scala-full-color.svg/1200px-Scala-full-color.svg.png)\n",
    "\n",
    "## 1. Scala's real-world project repository data\n",
    "With almost 30k commits and a history spanning over ten years, Scala is a mature programming language. It is a general-purpose programming language that has recently become another prominent language for data scientists.\n",
    "Scala is also an open source project. Open source projects have the advantage that their entire development histories -- who made changes, what was changed, code reviews, etc. -- are publicly available.\n",
    "We're going to read in, clean up, and visualize the real world project repository of Scala that spans data from a version control system (Git) as well as a project hosting site (GitHub). We will find out who has had the most influence on its development and who are the experts.\n",
    "The dataset we will use, which has been previously mined and extracted from GitHub, is comprised of three files:\n",
    "\n",
    "- `pulls_2011-2013.csv` contains the basic information about the pull requests, and spans from the end of 2011 up to (but not including) 2014.\n",
    "- `pulls_2014-2018.csv` contains identical information, and spans from 2014 up to 2018.\n",
    "- `pull_files.csv` contains the files that were modified by each pull request."
   ]
  },
  {
   "cell_type": "code",
   "execution_count": 1,
   "id": "4cb8f04e",
   "metadata": {},
   "outputs": [],
   "source": [
    "# Importing pandas\n",
    "import pandas as pd\n",
    "\n",
    "# Loading in the data\n",
    "pulls_one = pd.read_csv(\"https://raw.githubusercontent.com/cihanyatbaz/Data_Scientist_with_Python_Projects/main/3-The%20GitHub%20History%20of%20the%20Scala%20Language/datasets/pulls_2011-2013.csv\")\n",
    "pulls_two = pd.read_csv(\"https://raw.githubusercontent.com/cihanyatbaz/Data_Scientist_with_Python_Projects/main/3-The%20GitHub%20History%20of%20the%20Scala%20Language/datasets/pulls_2014-2018.csv\")\n",
    "pull_files = pd.read_csv(\"https://raw.githubusercontent.com/cihanyatbaz/Data_Scientist_with_Python_Projects/main/3-The%20GitHub%20History%20of%20the%20Scala%20Language/datasets/pull_files.csv\")"
   ]
  },
  {
   "cell_type": "markdown",
   "id": "cc62be74",
   "metadata": {},
   "source": [
    "## 2. Preparing and cleaning the data\n",
    "First, we will need to combine the data from the two separate pull DataFrames.\n",
    "Next, the raw data extracted from GitHub contains dates in the ISO8601 format. However, `pandas` imports them as regular strings. To make our analysis easier, we need to convert the strings into Python's `DateTime` objects. `DateTime` objects have the important property that they can be compared and sorted.\n",
    "The pull request times are all in UTC (also known as Coordinated Universal Time). The commit times, however, are in the local time of the author with time zone information (number of hours difference from UTC). To make comparisons easy, we should convert all times to UTC."
   ]
  },
  {
   "cell_type": "code",
   "execution_count": null,
   "id": "24a700ff",
   "metadata": {},
   "outputs": [],
   "source": [
    "# Append pulls_one to pulls_two\n",
    "pulls = ...\n",
    "\n",
    "# Convert the date for the pulls object\n",
    "pulls['date'] = ..."
   ]
  },
  {
   "cell_type": "markdown",
   "id": "0d3e316a",
   "metadata": {},
   "source": [
    "## 3. Merging the DataFrames\n",
    "The data extracted comes in two separate files. Merging the two DataFrames will make it easier for us to analyze the data in the future tasks."
   ]
  },
  {
   "cell_type": "code",
   "execution_count": null,
   "id": "db62364a",
   "metadata": {},
   "outputs": [],
   "source": [
    "# Merge the two DataFrames\n",
    "data = ..."
   ]
  },
  {
   "cell_type": "markdown",
   "id": "ad37030e",
   "metadata": {},
   "source": [
    "## 4. Is the project still actively maintained?\n",
    "The activity in an open source project is not very consistent. Some projects might be active for many years after the initial release, while others can slowly taper out into oblivion. Before committing to contributing to a project, it is important to understand the state of the project. Is development going steadily, or is there a drop? Has the project been abandoned altogether?\n",
    "The data used in this project was collected in January of 2018. We are interested in the evolution of the number of contributions up to that date.\n",
    "For Scala, we will do this by plotting a chart of the project's activity. We will calculate the number of pull requests submitted each (calendar) month during the project's lifetime. We will then plot these numbers to see the trend of contributions."
   ]
  },
  {
   "cell_type": "code",
   "execution_count": null,
   "id": "c705e0eb",
   "metadata": {},
   "outputs": [],
   "source": [
    "%matplotlib inline\n",
    "\n",
    "# Create a column that will store the month\n",
    "data['month'] = ...\n",
    "\n",
    "# Create a column that will store the year\n",
    "data['year'] = ...\n",
    "\n",
    "# Group by the month and year and count the pull requests\n",
    "counts = ...\n",
    "\n",
    "# Plot the results\n",
    "counts.plot(kind='bar', figsize = (12,4))"
   ]
  },
  {
   "cell_type": "markdown",
   "id": "03107643",
   "metadata": {},
   "source": [
    "## 5. Is there camaraderie in the project?\n",
    "The organizational structure varies from one project to another, and it can influence your success as a contributor. A project that has a very small community might not be the best one to start working on. The small community might indicate a high barrier of entry. This can be caused by several factors, including a community that is reluctant to accept pull requests from \"outsiders,\" that the code base is hard to work with, etc. However, a large community can serve as an indicator that the project is regularly accepting pull requests from new contributors. Such a project would be a good place to start.\n",
    "In order to evaluate the dynamics of the community, we will plot a histogram of the number of pull requests submitted by each user. A distribution that shows that there are few people that only contribute a small number of pull requests can be used as in indicator that the project is not welcoming of new contributors."
   ]
  },
  {
   "cell_type": "code",
   "execution_count": 2,
   "id": "b0d57205",
   "metadata": {},
   "outputs": [],
   "source": [
    "# Required for matplotlib\n",
    "%matplotlib inline\n",
    "\n",
    "# Group by the submitter\n",
    "by_user = ...\n",
    "\n",
    "# Plot the histogram\n",
    "# ... YOUR CODE FOR TASK 5 ..."
   ]
  },
  {
   "cell_type": "markdown",
   "id": "1470d464",
   "metadata": {},
   "source": [
    "## 6. What files were changed in the last ten pull requests?\n",
    "Choosing the right place to make a contribution is as important as choosing the project to contribute to. Some parts of the code might be stable, some might be dead. Contributing there might not have the most impact. Therefore it is important to understand the parts of the system that have been recently changed. This allows us to pinpoint the \"hot\" areas of the code where most of the activity is happening. Focusing on those parts might not the most effective use of our times."
   ]
  },
  {
   "cell_type": "code",
   "execution_count": null,
   "id": "79e20025",
   "metadata": {},
   "outputs": [],
   "source": [
    "# Identify the last 10 pull requests\n",
    "last_10 = ...\n",
    "\n",
    "# Join the two data sets\n",
    "joined_pr = ...\n",
    "\n",
    "# Identify the unique files\n",
    "files = ...\n",
    "\n",
    "# Print the results\n",
    "files"
   ]
  },
  {
   "cell_type": "markdown",
   "id": "76b109c3",
   "metadata": {},
   "source": [
    "## 7. Who made the most pull requests to a given file?\n",
    "When contributing to a project, we might need some guidance. We might find ourselves needing some information regarding the codebase. It is important direct any questions to the right person. Contributors to open source projects generally have other day jobs, so their time is limited. It is important to address our questions to the right people. One way to identify the right target for our inquiries is by using their contribution history.\n",
    "We identified `src/compiler/scala/reflect/reify/phases/Calculate.scala` as being recently changed. We are interested in the top 3 developers who changed that file. Those developers are the ones most likely to have the best understanding of the code."
   ]
  },
  {
   "cell_type": "code",
   "execution_count": null,
   "id": "f5f7cfed",
   "metadata": {},
   "outputs": [],
   "source": [
    "# This is the file we are interested in:\n",
    "file = 'src/compiler/scala/reflect/reify/phases/Calculate.scala'\n",
    "\n",
    "# Identify the commits that changed the file\n",
    "file_pr = ...\n",
    "\n",
    "# Count the number of changes made by each developer\n",
    "author_counts = ...\n",
    "\n",
    "# Print the top 3 developers\n",
    "# ... YOUR CODE FOR TASK 7 ..."
   ]
  },
  {
   "cell_type": "markdown",
   "id": "dbe85257",
   "metadata": {},
   "source": [
    "## 8. Who made the last ten pull requests on a given file?\n",
    "Open source projects suffer from fluctuating membership. This makes the problem of finding the right person more challenging: the person has to be knowledgeable and still be involved in the project. A person that contributed a lot in the past might no longer be available (or willing) to help. To get a better understanding, we need to investigate the more recent history of that particular part of the system.\n",
    "Like in the previous task, we will look at the history of `src/compiler/scala/reflect/reify/phases/Calculate.scala`."
   ]
  },
  {
   "cell_type": "code",
   "execution_count": null,
   "id": "5409ae1e",
   "metadata": {},
   "outputs": [],
   "source": [
    "file = 'src/compiler/scala/reflect/reify/phases/Calculate.scala'\n",
    "\n",
    "# Select the pull requests that changed the target file\n",
    "file_pr = ...\n",
    "\n",
    "# Merge the obtained results with the pulls DataFrame\n",
    "joined_pr = ...\n",
    "\n",
    "# Find the users of the last 10 most recent pull requests\n",
    "users_last_10 = ...\n",
    "\n",
    "# Printing the results\n",
    "users_last_10"
   ]
  },
  {
   "cell_type": "markdown",
   "id": "4dcae23b",
   "metadata": {},
   "source": [
    "## 9. The pull requests of two special developers\n",
    "Now that we have identified two potential contacts in the projects, we need to find the person who was most involved in the project in recent times. That person is most likely to answer our questions. For each calendar year, we are interested in understanding the number of pull requests the authors submitted. This will give us a high-level image of their contribution trend to the project."
   ]
  },
  {
   "cell_type": "code",
   "execution_count": null,
   "id": "70035279",
   "metadata": {},
   "outputs": [],
   "source": [
    "%matplotlib inline\n",
    "\n",
    "# The developers we are interested in\n",
    "authors = ['xeno-by', 'soc']\n",
    "\n",
    "# Get all the developers' pull requests\n",
    "by_author = ...\n",
    "\n",
    "# Count the number of pull requests submitted each year\n",
    "counts = by_author.groupby([..., ...]).agg({'pid': 'count'}).reset_index()\n",
    "\n",
    "# Convert the table to a wide format\n",
    "counts_wide = counts.pivot_table(index='date', columns='user', values='pid', fill_value=0)\n",
    "\n",
    "# Plot the results\n",
    "# ... YOUR CODE FOR TASK 9 ..."
   ]
  },
  {
   "cell_type": "markdown",
   "id": "ef757fa8",
   "metadata": {},
   "source": [
    "## 10. Visualizing the contributions of each developer\n",
    "As mentioned before, it is important to make a distinction between the global expertise and contribution levels and the contribution levels at a more granular level (file, submodule, etc.) In our case, we want to see which of our two developers of interest have the most experience with the code in a given file. We will measure experience by the number of pull requests submitted that affect that file and how recent those pull requests were submitted."
   ]
  },
  {
   "cell_type": "code",
   "execution_count": null,
   "id": "d549b0b6",
   "metadata": {},
   "outputs": [],
   "source": [
    "authors = ['xeno-by', 'soc']\n",
    "file = 'src/compiler/scala/reflect/reify/phases/Calculate.scala'\n",
    "\n",
    "# Select the pull requests submitted by the authors, from the `data` DataFrame\n",
    "by_author = ...\n",
    "\n",
    "# Select the pull requests that affect the file\n",
    "by_file = ...\n",
    "\n",
    "# Group and count the number of PRs done by each user each year\n",
    "grouped = by_file.groupby(['user', by_file['date'].dt.year]).count()['pid'].reset_index()\n",
    "\n",
    "# Transform the data into a wide format\n",
    "by_file_wide = ...\n",
    "\n",
    "# Plot the results\n",
    "by_file_wide.plot(kind='bar')"
   ]
  }
 ],
 "metadata": {
  "kernelspec": {
   "display_name": "Python 3 (ipykernel)",
   "language": "python",
   "name": "python3"
  },
  "language_info": {
   "codemirror_mode": {
    "name": "ipython",
    "version": 3
   },
   "file_extension": ".py",
   "mimetype": "text/x-python",
   "name": "python",
   "nbconvert_exporter": "python",
   "pygments_lexer": "ipython3",
   "version": "3.9.12"
  }
 },
 "nbformat": 4,
 "nbformat_minor": 5
}
