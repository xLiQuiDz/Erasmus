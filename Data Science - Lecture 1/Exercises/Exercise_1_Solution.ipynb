{
 "cells": [
  {
   "cell_type": "markdown",
   "metadata": {
    "id": "0wzvIu4lkRDm"
   },
   "source": [
    "# Introduction to Python\n",
    "## Python Basics"
   ]
  },
  {
   "cell_type": "code",
   "execution_count": 4,
   "metadata": {},
   "outputs": [],
   "source": [
    "# Question 0:\n",
    "# import pandas as pd and numpy as np.\n",
    "import pandas as pd\n",
    "import numpy as np"
   ]
  },
  {
   "cell_type": "code",
   "execution_count": 12,
   "metadata": {},
   "outputs": [
    {
     "data": {
      "text/plain": [
       "True"
      ]
     },
     "execution_count": 12,
     "metadata": {},
     "output_type": "execute_result"
    }
   ],
   "source": [
    "# Question 1:\n",
    "# Write a NumPy program to test whether none of the elements of a given array is zero. \n",
    "# Hint: google for np.all\n",
    "np.all([1, 2, 3, 1])"
   ]
  },
  {
   "cell_type": "code",
   "execution_count": 15,
   "metadata": {},
   "outputs": [
    {
     "data": {
      "text/plain": [
       "True"
      ]
     },
     "execution_count": 15,
     "metadata": {},
     "output_type": "execute_result"
    }
   ],
   "source": [
    "# Question 2:\n",
    "# Write a NumPy program to test if any of the elements of a given array is non-zero. \n",
    "# Hint: google for similar function to np.all\n",
    "np.any([1, 2, 3, 1])"
   ]
  },
  {
   "cell_type": "code",
   "execution_count": null,
   "metadata": {},
   "outputs": [],
   "source": [
    "# Question 3:\n",
    "# Write a NumPy program to test element-wise for NaN of a given array.\n"
   ]
  },
  {
   "cell_type": "code",
   "execution_count": null,
   "metadata": {},
   "outputs": [],
   "source": [
    "# Question 4:\n",
    "# Write a NumPy program to create an array of 10 zeros, 10 ones, 10 fives.\n"
   ]
  },
  {
   "cell_type": "code",
   "execution_count": null,
   "metadata": {},
   "outputs": [],
   "source": [
    "# Question 5:\n",
    "# Write a NumPy program to create an array of the integers from 30 to 70.\n"
   ]
  },
  {
   "cell_type": "code",
   "execution_count": null,
   "metadata": {},
   "outputs": [],
   "source": [
    "# Question 6:\n",
    "# Write a NumPy program to create an array of all the even integers from 30 to 70.\n"
   ]
  },
  {
   "cell_type": "code",
   "execution_count": null,
   "metadata": {},
   "outputs": [],
   "source": [
    "# Question 7:\n",
    "# Write a NumPy program to create a vector with values ranging from 15 to 55 and print all values \n",
    "# except the first and last.\n"
   ]
  },
  {
   "cell_type": "code",
   "execution_count": null,
   "metadata": {},
   "outputs": [],
   "source": [
    "# Question 8:\n",
    "# Write a NumPy program to create a vector with values from 0 to 20 and change the sign of the numbers \n",
    "# in the range from 9 to 15.\n"
   ]
  },
  {
   "cell_type": "code",
   "execution_count": 2,
   "metadata": {},
   "outputs": [],
   "source": [
    "# Question 9:\n",
    "# Python program to check whether the given number is even or not. The function should return True \n",
    "# for an even number and false for an odd number.\n",
    "\n",
    "def even_number(x):\n",
    "    if x % 2 == 0:\n",
    "        return True\n",
    "    else:\n",
    "        return False\n",
    "    \n",
    "assert even_number(3) == False\n",
    "assert even_number(5) == False\n",
    "assert even_number(10) == True"
   ]
  },
  {
   "cell_type": "code",
   "execution_count": null,
   "metadata": {},
   "outputs": [],
   "source": [
    "# Question 10:\n",
    "# Write a function that take a 2D points and a list of 2 points (in an 2D numpy array format) \n",
    "# and return the index of the closest point in the list (according to euclidian distance)\n",
    "\n",
    "def get_closest(point, points):\n",
    "    # Code here\n",
    "    \n",
    "assert get_closest(np.array([0.1, 0.5]), np.array([[0.2, 0.4],[0.1, 0.2],[0.5, 0.0]])) == 0\n",
    "assert get_closest(np.array([5.1, 4.3]), np.array([[0.2, 0.4],[6.1, 4.2],[0.5, 0.0]])) == 1\n",
    "assert get_closest(np.array([3.1, 2.0]), np.array([[0.2, 0.4],[6.1, 4.2],[3.0, 2.0]])) == 2"
   ]
  },
  {
   "cell_type": "code",
   "execution_count": null,
   "metadata": {},
   "outputs": [],
   "source": [
    "# Question 11:\n",
    "# Write a function that does the min-max scale the values of an array between 0 and 1.\n",
    "\n",
    "from numpy.testing import assert_equal\n",
    "\n",
    "def scale(array):\n",
    "    # Code here\n",
    "\n",
    "assert_equal(scale([-2, 0, 2, 4]), [0, 1/3, 2/3, 1.])\n",
    "assert_equal(scale([1, 3, 2, 5]), [0, 1/2, 1/4, 1.])"
   ]
  },
  {
   "cell_type": "code",
   "execution_count": 3,
   "metadata": {},
   "outputs": [
    {
     "data": {
      "text/plain": [
       "[1, 2, 1, 2]"
      ]
     },
     "execution_count": 3,
     "metadata": {},
     "output_type": "execute_result"
    }
   ],
   "source": [
    "# Question 12:\n",
    "# What does the following return?\n",
    "\n",
    "[1, 2] + [1, 2]"
   ]
  },
  {
   "cell_type": "code",
   "execution_count": 11,
   "metadata": {},
   "outputs": [],
   "source": [
    "# Question 13:\n",
    "# Write a function that return the third greatest element\n",
    "\n",
    "def get_third_greatest(x):\n",
    "    x.sort()\n",
    "    return x[-3]\n",
    "    \n",
    "assert get_third_greatest([82, 57, 65, 81, 99, 85, 98, 91, 33, 48])  == 91\n",
    "assert get_third_greatest([-1, 42, -25, 38, -12])  == -1"
   ]
  },
  {
   "cell_type": "code",
   "execution_count": null,
   "metadata": {},
   "outputs": [],
   "source": [
    "# Question 14:\n",
    "# Select all elements greater than 10 and smaller than 70\n",
    "\n",
    "def select(x):\n",
    "    filter(lambda el (el > 10))\n",
    "\n",
    "assert select([82, 57, 65, 81, 99, 85, 98, 91, 33, 48]) == [57, 65, 33, 48]"
   ]
  },
  {
   "cell_type": "markdown",
   "metadata": {},
   "source": [
    "## Python for Data Science"
   ]
  },
  {
   "cell_type": "code",
   "execution_count": null,
   "metadata": {},
   "outputs": [],
   "source": [
    "import pandas as pd\n",
    "\n",
    "# Dataframe to work with\n",
    "df = pd.DataFrame(data = [[3, 7, 'Friday', 'Mary'],\n",
    "                          [2, 2, 'Tuesday', 'Mary'],\n",
    "                          [6, 4, 'Friday', 'Mary'],\n",
    "                          [3, 5, 'Tuesday', 'Mary'],\n",
    "                          [1, 2, 'Friday', 'Mary'],\n",
    "                          [9, 5, 'Friday', 'Mary'],\n",
    "                          [3, 1, 'Friday', 'John'],\n",
    "                          [9, 6, 'Tuesday', 'John'],\n",
    "                          [4, 2, 'Monday', 'Mary'],\n",
    "                          [1, 8, 'Friday', 'John']], \n",
    "                  columns = ['price_per_unit', 'nb_units', 'day', 'players'])"
   ]
  },
  {
   "cell_type": "code",
   "execution_count": null,
   "metadata": {},
   "outputs": [],
   "source": [
    "# Question 15:\n",
    "# How much money did John spend?\n"
   ]
  },
  {
   "cell_type": "code",
   "execution_count": null,
   "metadata": {},
   "outputs": [],
   "source": [
    "# Question 16:\n",
    "# How much money did each player spend each day?\n"
   ]
  },
  {
   "cell_type": "code",
   "execution_count": null,
   "metadata": {
    "id": "sz6mID-9kRDs"
   },
   "outputs": [],
   "source": [
    "# Question 17:\n",
    "# Create a dataframe, with following output:\n",
    "\n",
    "# output:\n",
    "#        name  score  attempts qualify\n",
    "#0  Anastasia   12.5         1     yes\n",
    "#1       Dima    9.0         3      no\n",
    "#2  Katherine   16.5         2     yes\n",
    "#3      James    NaN         3      no\n",
    "#4      Emily    9.0         2      no\n"
   ]
  },
  {
   "cell_type": "code",
   "execution_count": null,
   "metadata": {
    "id": "zP4jFvT7kRDt"
   },
   "outputs": [],
   "source": [
    "# Question 18:\n",
    "# create a new dataframe, student, that uses the labels below as index ('name' of each row)\n",
    "labels = ['a', 'b', 'c', 'd', 'e', 'f', 'g', 'h', 'i', 'j']\n",
    "\n",
    "# Code here\n",
    "\n",
    "# desired output:\n",
    "#   attempts       name qualify  score                                  \n",
    "#a         1  Anastasia     yes   12.5                                  \n",
    "#b         3       Dima      no    9.0                                  \n",
    "#c         2  Katherine     yes   16.5                                  \n",
    "#d         3      James      no    NaN                                  \n",
    "#e         2      Emily      no    9.0                                         "
   ]
  },
  {
   "cell_type": "code",
   "execution_count": null,
   "metadata": {
    "id": "eoSVjxZAkRDt"
   },
   "outputs": [],
   "source": [
    "# Question 19:\n",
    "# Fill the empty null values of the score column with 0\n"
   ]
  },
  {
   "cell_type": "code",
   "execution_count": null,
   "metadata": {
    "id": "xmUxSi_4kRDu"
   },
   "outputs": [],
   "source": [
    "# Question 20:\n",
    "# Write a Pandas program to change the score in row 'd' to 11.5\n"
   ]
  },
  {
   "cell_type": "code",
   "execution_count": null,
   "metadata": {
    "id": "abWj4vP8kRDu"
   },
   "outputs": [],
   "source": [
    "# Question 21:\n",
    "# Write a Pandas program to calculate the sum of the examination attempts by all students. (like with numpy)\n"
   ]
  },
  {
   "cell_type": "code",
   "execution_count": null,
   "metadata": {
    "id": "slhHZ6pMkRDu"
   },
   "outputs": [],
   "source": [
    "# Question 22:\n",
    "# Write a Pandas program to calculate the mean score in the student DataFrame\n"
   ]
  },
  {
   "cell_type": "code",
   "execution_count": null,
   "metadata": {
    "id": "XYd286kfkRDu"
   },
   "outputs": [],
   "source": [
    "# Question 23:\n",
    "# Write a Pandas program to sort the data frame first by 'name' in descending order\n"
   ]
  },
  {
   "cell_type": "code",
   "execution_count": null,
   "metadata": {
    "id": "tS1W5JVgkRDw"
   },
   "outputs": [],
   "source": [
    "# Question 24:\n",
    "# Write a Pandas program to get the columns and shape of the student DataFrame\n"
   ]
  }
 ],
 "metadata": {
  "colab": {
   "collapsed_sections": [
    "tgbsJXUxkRDz",
    "9ajEqfuikRD0",
    "_XC2NKpbkRD5"
   ],
   "name": "EHB Data science 1.ipynb",
   "provenance": []
  },
  "kernelspec": {
   "display_name": "Python 3 (ipykernel)",
   "language": "python",
   "name": "python3"
  },
  "language_info": {
   "codemirror_mode": {
    "name": "ipython",
    "version": 3
   },
   "file_extension": ".py",
   "mimetype": "text/x-python",
   "name": "python",
   "nbconvert_exporter": "python",
   "pygments_lexer": "ipython3",
   "version": "3.9.12"
  },
  "toc": {
   "base_numbering": 1,
   "nav_menu": {},
   "number_sections": true,
   "sideBar": true,
   "skip_h1_title": false,
   "title_cell": "Table of Contents",
   "title_sidebar": "Contents",
   "toc_cell": false,
   "toc_position": {},
   "toc_section_display": true,
   "toc_window_display": false
  }
 },
 "nbformat": 4,
 "nbformat_minor": 4
}
