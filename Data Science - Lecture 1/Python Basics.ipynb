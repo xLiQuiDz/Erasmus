{
 "cells": [
  {
   "cell_type": "markdown",
   "metadata": {
    "id": "tJ7QxbB-Gk4c"
   },
   "source": [
    "## Introduction to Python\n",
    "Python is a computer programming language often used to build websites and software, automate tasks, and conduct data analysis. Python is a general-purpose language, meaning it can be used to create a variety of different programs and isn’t specialized for any specific problems. This versatility, along with its beginner-friendliness, has made it one of the most-used programming languages today.\n",
    "\n",
    "\n",
    "### Python Basics\n",
    "Python is perfectly suited to do basic calculations. Apart from addition, subtraction, multiplication and division, there is also support for more advanced operations such as:\n",
    "\n",
    "1. Exponentiation: `**`. This operator raises the number to its left to the power of the number to its right. For example `4**2` will give 16.\n",
    "2. Modulo: `%`. This operator returns the remainder of the division of the number to the left by the number on its right. For example `18 % 7` equals 4."
   ]
  },
  {
   "cell_type": "code",
   "execution_count": 1,
   "metadata": {
    "code_folding": [],
    "id": "pQAkgxlFGk4e"
   },
   "outputs": [
    {
     "name": "stdout",
     "output_type": "stream",
     "text": [
      "10\n",
      "0\n",
      "15\n",
      "5.0\n",
      "4\n",
      "16\n",
      "194.87171000000012\n"
     ]
    }
   ],
   "source": [
    "# Addition, subtraction\n",
    "print(5 + 5)\n",
    "print(5 - 5)\n",
    "\n",
    "# Multiplication, division, modulo, and exponentiation\n",
    "print(3 * 5)\n",
    "print(10 / 2)\n",
    "print(18 % 7)\n",
    "print(4 ** 2)\n",
    "\n",
    "# How much is your $100 worth after 7 years?\n",
    "print(100 * 1.1 ** 7)"
   ]
  },
  {
   "cell_type": "markdown",
   "metadata": {},
   "source": [
    "### Variables & Types\n",
    "In Python, a variable allows you to refer to a value with a name. To create a variable use `=`, like this example:\n",
    "\n",
    "```python\n",
    "x = 5\n",
    "```\n",
    "You can now use the name of this variable, `x`, instead of the actual value, 5.\n",
    "Remember, `=` in Python means assignment, it doesn't test equality!\n",
    "\n",
    "Commen python data data types:\n",
    "\n",
    "1. **int, or integer**: a number without a fractional part.\n",
    "2. **float, or floating point:** a number that has both an integer and fractional part, separated by a point. \n",
    "3. **str, or string**: a type to represent text. You can use single or double quotes to build a string.\n",
    "4. **bool, or boolean**: a type to represent logical values. Can only be True or False (the capitalization is important!)."
   ]
  },
  {
   "cell_type": "code",
   "execution_count": 2,
   "metadata": {
    "code_folding": []
   },
   "outputs": [
    {
     "name": "stdout",
     "output_type": "stream",
     "text": [
      "<class 'int'>\n",
      "<class 'float'>\n",
      "<class 'str'>\n",
      "<class 'bool'>\n"
     ]
    }
   ],
   "source": [
    "# Create a variable savings (integer)\n",
    "savings = 100\n",
    "\n",
    "# Create a variable growth_multiplier (float)\n",
    "growth_multiplier = 1.1\n",
    "\n",
    "# Create a variable desc (string)\n",
    "desc = \"compound interest\"\n",
    "\n",
    "# Boolean\n",
    "data_science_is_cool = True\n",
    "\n",
    "# Assign product of savings and growth_multiplier to year1\n",
    "year1 = savings * growth_multiplier\n",
    "\n",
    "# Assign sum of desc and desc to doubledesc\n",
    "doubledesc = desc + desc\n",
    "\n",
    "# Print the types of the variables\n",
    "print(type(savings))\n",
    "print(type(growth_multiplier))\n",
    "print(type(desc))\n",
    "print(type(data_science_is_cool))"
   ]
  },
  {
   "cell_type": "markdown",
   "metadata": {},
   "source": [
    "### Python Lists\n",
    "As opposed to int, bool etc., a list is a **compound data type**; you can group values together:\n",
    "```python\n",
    "a = \"is\"\n",
    "b = \"nice\"\n",
    "my_list = [\"my\", \"list\", a, b]\n",
    "```\n",
    "A list can contain any Python type. Although it's not really common, a list can also contain a mix of Python types including strings, floats, booleans, etc."
   ]
  },
  {
   "cell_type": "code",
   "execution_count": 11,
   "metadata": {
    "code_folding": []
   },
   "outputs": [],
   "source": [
    "# area variables (in square meters)\n",
    "hall = 11.25\n",
    "kit = 18.0\n",
    "liv = 20.0\n",
    "bed = 10.75\n",
    "bath = 9.50\n",
    "\n",
    "# Create list areas\n",
    "areas = [hall, kit, liv, bed, bath]\n",
    "\n",
    "# house information as list of lists\n",
    "house = [[\"hallway\", hall],\n",
    "         [\"kitchen\", kit],\n",
    "         [\"living room\", liv],\n",
    "         [\"bedroom\", bed],\n",
    "         [\"bathroom\", bath]]"
   ]
  },
  {
   "cell_type": "markdown",
   "metadata": {},
   "source": [
    "#### Subsetting Lists\n",
    "Subsetting Python lists is a piece of cake. Take the code sample below, which creates a list `x` and then selects \"b\" from it. Remember that this is the second element, so it has index 1. You can also use negative indexing.\n",
    "\n",
    "```python\n",
    "x = [\"a\", \"b\", \"c\", \"d\"]\n",
    "x[1]\n",
    "x[-3] # same result!\n",
    "```\n",
    "\n",
    "Selecting single values from a list is just one part of the story. It's also possible to slice your list, which means selecting multiple elements from your list. Use the following syntax:\n",
    "\n",
    "```python\n",
    "my_list[start:end]\n",
    "```\n",
    "\n",
    "The `start` index will be included, while the `end` index is not.\n",
    "The code sample below shows an example. A list with `\"b\"` and `\"c\"`, corresponding to indexes 1 and 2, are selected from a list `x`:\n",
    "\n",
    "```python\n",
    "x = [\"a\", \"b\", \"c\", \"d\"]\n",
    "x[1:3]\n",
    "```\n",
    "\n",
    "The elements with index 1 and 2 are included, while the element with index 3 is not."
   ]
  },
  {
   "cell_type": "code",
   "execution_count": 4,
   "metadata": {},
   "outputs": [
    {
     "data": {
      "text/plain": [
       "10.75"
      ]
     },
     "execution_count": 4,
     "metadata": {},
     "output_type": "execute_result"
    }
   ],
   "source": [
    "# Print out second element from areas\n",
    "areas[1]\n",
    "\n",
    "# Print out last element from areas\n",
    "areas[-1]\n",
    "\n",
    "# Use slicing to create downstairs\n",
    "areas[0:2]\n",
    "\n",
    "#Print out the area of the bedroom\n",
    "house[3][1]"
   ]
  },
  {
   "cell_type": "markdown",
   "metadata": {},
   "source": [
    "#### Manipulating Lists\n",
    "Replacing list elements is pretty easy. Simply subset the list and assign new values to the subset. You can select single elements or you can change entire list slices at once.\n",
    "\n",
    "Use the IPython Shell to experiment with the commands below. Can you tell what's happening and why?\n",
    "\n",
    "```python\n",
    "x = [\"a\", \"b\", \"c\", \"d\"]\n",
    "x[1] = \"r\"\n",
    "x[2:] = [\"s\", \"t\"]\n",
    "```\n",
    "If you can change elements in a list, you sure want to be able to add elements to it, right? You can use the `+` operator: \n",
    "\n",
    "```python\n",
    "x = [\"a\", \"b\", \"c\", \"d\"]\n",
    "y = x + [\"e\", \"f\"]\n",
    "```\n",
    "\n",
    "Finally, you can also remove elements from your list. You can do this with the del statement:\n",
    "\n",
    "```python\n",
    "x = [\"a\", \"b\", \"c\", \"d\"]\n",
    "del(x[1])\n",
    "```\n",
    "Pay attention here: as soon as you remove an element from a list, the indexes of the elements that come after the deleted element all change!\n"
   ]
  },
  {
   "cell_type": "code",
   "execution_count": 5,
   "metadata": {
    "id": "3SBGErCbGk4g"
   },
   "outputs": [],
   "source": [
    "# Create the areas list\n",
    "areas = [\"hallway\", 11.25, \"kitchen\", 18.0, \"living room\", 20.0, \"bedroom\", 10.75, \"bathroom\", 9.50]\n",
    "\n",
    "# Correct the bathroom area\n",
    "areas[-1] = 10.50\n",
    "\n",
    "# Change \"living room\" to \"chill zone\"\n",
    "areas[4] = \"chill zone\"\n",
    "\n",
    "# Add poolhouse data to areas, new list is areas_1\n",
    "areas_1 = areas + [\"poolhouse\", 24.5]\n",
    "\n",
    "# Add garage data to areas_1, new list is areas_2\n",
    "areas_2 = areas_1 + [\"garage\", 15.45]\n",
    "\n",
    "# Delete garage data from areas_2\n",
    "del(areas_2[12:14])"
   ]
  },
  {
   "cell_type": "markdown",
   "metadata": {},
   "source": [
    "### Functions and Packages\n",
    "#### Functions\n",
    "Out of the box, Python offers a bunch of built-in functions to make your life as a data scientist easier. You already know two such functions: **print()** and **type()**. You've also used the functions **str()**, **int()**, **bool()** and **float()** to switch between data types. These are built-in functions as well.\n",
    "\n",
    "Calling a function is easy. To get the type of 3.0 and store the output as a new variable, result, you can use the following:\n",
    "\n",
    "```python\n",
    "result = type(3.0)\n",
    "```\n",
    "\n",
    "The general recipe for calling functions and saving the result to a variable is thus:\n",
    "\n",
    "```python\n",
    "output = function_name(input)\n",
    "```"
   ]
  },
  {
   "cell_type": "code",
   "execution_count": 6,
   "metadata": {},
   "outputs": [
    {
     "data": {
      "text/plain": [
       "[20.0, 18.0, 11.25, 10.75, 9.5]"
      ]
     },
     "execution_count": 6,
     "metadata": {},
     "output_type": "execute_result"
    }
   ],
   "source": [
    "# Create variables var1 and var2\n",
    "var1 = [1, 2, 3, 4]\n",
    "var2 = True\n",
    "\n",
    "# Print out type of var1\n",
    "type(var1)\n",
    "\n",
    "# Print out length of var1\n",
    "len(var1)\n",
    "\n",
    "# Convert var2 to an integer: out2\n",
    "out2 = int(var2)\n",
    "\n",
    "# Create lists first and second\n",
    "first = [11.25, 18.0, 20.0]\n",
    "second = [10.75, 9.50]\n",
    "\n",
    "# Paste together first and second: full\n",
    "full = first + second\n",
    "\n",
    "# Sort full in descending order: full_sorted\n",
    "full_sorted = sorted(full, reverse = True)\n",
    "\n",
    "# Print out full_sorted\n",
    "print(full_sorted)"
   ]
  },
  {
   "cell_type": "markdown",
   "metadata": {},
   "source": [
    "#### Methods\n",
    "Strings come with a bunch of methods. Follow the instructions closely to discover some of them. If you want to discover them in more detail, you can always type `help(str)` in the IPython Shell.\n",
    "\n",
    "Strings are not the only Python types that have methods associated with them. Lists, floats, integers and booleans are also types that come packaged with a bunch of useful methods. In this exercise, you'll be experimenting with:\n",
    "\n",
    "- `index()`, to get the index of the first element of a list that matches its input\n",
    "- `count()`, to get the number of times an element appears in a list.\n",
    "\n",
    "Most list methods will change the list they're called on. Examples are:\n",
    "\n",
    "- `append()`, that adds an element to the list it is called on,\n",
    "- `remove()`, that removes the first element of a list that matches the input, and\n",
    "- `reverse()`, that reverses the order of the elements in the list it is called on.\n"
   ]
  },
  {
   "cell_type": "code",
   "execution_count": 7,
   "metadata": {},
   "outputs": [
    {
     "data": {
      "text/plain": [
       "[15.45, 24.5, 9.5, 10.75, 20.0, 18.0, 11.25]"
      ]
     },
     "execution_count": 7,
     "metadata": {},
     "output_type": "execute_result"
    }
   ],
   "source": [
    "# string to experiment with: place\n",
    "place = \"poolhouse\"\n",
    "\n",
    "# Use upper() on place: place_up\n",
    "place_up = place.upper()\n",
    "\n",
    "# Print out place and place_up\n",
    "place\n",
    "place_up\n",
    "\n",
    "# Print out the number of o's in place\n",
    "place.count('o')\n",
    "\n",
    "# Create list areas\n",
    "areas = [11.25, 18.0, 20.0, 10.75, 9.50]\n",
    "\n",
    "# Use append twice to add poolhouse and garage size\n",
    "areas.append(24.5)\n",
    "areas.append(15.45)\n",
    "\n",
    "# Print out areas\n",
    "areas\n",
    "\n",
    "# Reverse the orders of the elements in areas\n",
    "areas.reverse()\n",
    "\n",
    "# Print out areas\n",
    "areas"
   ]
  },
  {
   "cell_type": "markdown",
   "metadata": {},
   "source": [
    "#### Packages\n",
    "As a data scientist, some notions of geometry never hurt. Let's refresh some of the basics.\n",
    "\n",
    "For a fancy clustering algorithm, you want to find the circumference, $C$, and area, $A$, of a circle. When the radius of the circle is **r**, you can calculate  and  as: $C = 2 \\pi r$\n",
    "\n",
    "To use the constant $\\pi$, you'll need the math package. A variable `r` is already coded in the script. Fill in the code to calculate $C$ and $A$ and see how the `print()` functions create some nice printouts.\n",
    "\n",
    "General imports, like `import math`, make all functionality from the math package available to you. However, if you decide to only use a specific part of a package, you can always make your import more selective:\n",
    "\n",
    "```python\n",
    "from math import pi\n",
    "```"
   ]
  },
  {
   "cell_type": "code",
   "execution_count": 8,
   "metadata": {},
   "outputs": [
    {
     "name": "stdout",
     "output_type": "stream",
     "text": [
      "Circumference: 2.701769682087222\n",
      "Area: 0.5808804816487527\n",
      "40317.10572106901\n"
     ]
    }
   ],
   "source": [
    "# Definition of radius\n",
    "r = 0.43\n",
    "\n",
    "# Import the math package\n",
    "import math\n",
    "\n",
    "# Calculate C\n",
    "C = 2 * r * math.pi\n",
    "\n",
    "# Calculate A\n",
    "A = math.pi * r ** 2\n",
    "\n",
    "# Build printout\n",
    "print(\"Circumference: \" + str(C))\n",
    "print(\"Area: \" + str(A))\n",
    "\n",
    "# Definition of radius\n",
    "r = 192500\n",
    "\n",
    "# Import radians function of math package\n",
    "from math import radians\n",
    "\n",
    "# Travel distance of Moon over 12 degrees. Store in dist.\n",
    "dist = r * radians(12)\n",
    "\n",
    "# Print out dist\n",
    "print(dist)"
   ]
  },
  {
   "cell_type": "markdown",
   "metadata": {},
   "source": [
    "### Numpy\n",
    "NumPy is a fundamental Python package to efficiently practice data science. Learn to work with powerful tools in the NumPy array, and get started with data exploration."
   ]
  },
  {
   "cell_type": "code",
   "execution_count": 9,
   "metadata": {},
   "outputs": [
    {
     "name": "stdout",
     "output_type": "stream",
     "text": [
      "<class 'numpy.ndarray'>\n",
      "<class 'numpy.ndarray'>\n"
     ]
    }
   ],
   "source": [
    "# Create list height_in and weight_lb list\n",
    "height = [70, 79, 66, 72, 53, 80, 65, 40, 56]\n",
    "weight = [75, 81, 154, 87, 77, 78, 90, 120, 64]\n",
    "\n",
    "# Import the numpy package as np\n",
    "import numpy as np\n",
    "\n",
    "# Create a numpy array from height: np_height\n",
    "np_height = np.array(height)\n",
    "\n",
    "# Create a numpy array from weight: np_weight\n",
    "np_weight = np.array(weight)\n",
    "\n",
    "# Print out type of np_height\n",
    "print(type(np_height))\n",
    "\n",
    "# Print out type of np_weight\n",
    "print(type(np_weight))"
   ]
  },
  {
   "cell_type": "markdown",
   "metadata": {},
   "source": [
    "To subset both regular Python lists and numpy arrays, you can use square brackets:\n",
    "\n",
    "```python\n",
    "x = [4 , 9 , 6, 3, 1]\n",
    "x[1]\n",
    "import numpy as np\n",
    "y = np.array(x)\n",
    "y[1]\n",
    "```\n",
    "\n",
    "For `numpy` specifically, you can also use boolean `numpy` arrays:\n",
    "\n",
    "```python\n",
    "high = y > 5\n",
    "y[high]\n",
    "```"
   ]
  },
  {
   "cell_type": "code",
   "execution_count": 11,
   "metadata": {},
   "outputs": [
    {
     "name": "stdout",
     "output_type": "stream",
     "text": [
      "[10.7612603   9.1249142  24.85597496 11.7991905  19.27245051  8.56865351\n",
      " 14.97661788 52.73017546 14.34834706]\n",
      "[ True  True False  True  True  True  True False  True]\n",
      "[10.7612603   9.1249142  11.7991905  19.27245051  8.56865351 14.97661788\n",
      " 14.34834706]\n"
     ]
    }
   ],
   "source": [
    "# Import numpy\n",
    "import numpy as np\n",
    "\n",
    "# Create array from height_in with metric units: np_height_m\n",
    "np_height_m = np.array(np_height) * 0.0254\n",
    "\n",
    "# Create array from weight_lb with metric units: np_weight_kg\n",
    "np_weight_kg = np.array(np_weight) * 0.453592\n",
    "\n",
    "# Calculate the BMI: bmi\n",
    "bmi = np_weight_kg / np_height_m ** 2\n",
    "\n",
    "# Print out bmi\n",
    "print(bmi)\n",
    "\n",
    "# Create the light array\n",
    "light = bmi < 21\n",
    "\n",
    "# Print out light\n",
    "print(light)\n",
    "\n",
    "# Print out BMIs of all baseball players whose BMI is below 21\n",
    "print(bmi[light])"
   ]
  },
  {
   "cell_type": "markdown",
   "metadata": {},
   "source": [
    "You now know how to use numpy functions to get a better feeling for your data. It basically comes down to importing numpy and then calling several simple functions on the numpy arrays:\n",
    "\n",
    "```python\n",
    "import numpy as np\n",
    "x = [1, 4, 8, 10, 12]\n",
    "np.mean(x)\n",
    "np.median(x)\n",
    "np.std(x)\n",
    "```"
   ]
  },
  {
   "cell_type": "code",
   "execution_count": 12,
   "metadata": {},
   "outputs": [
    {
     "name": "stdout",
     "output_type": "stream",
     "text": [
      "The mean hight is: 81.0\n",
      "The median weight is: 64.55555555555556\n",
      "The standard deviation of the height is: 12.22121207946896\n"
     ]
    }
   ],
   "source": [
    "# Calculate the mean hight\n",
    "mean_height = np.mean(height)\n",
    "\n",
    "# Calculate the median weight\n",
    "median_weight = np.median(weight)\n",
    "\n",
    "# Calculate the standard deviation of hight\n",
    "std_hight = np.std(height)\n",
    "\n",
    "# Print out the mean height\n",
    "print(\"The mean hight is: \"+ str(median_weight))\n",
    "\n",
    "# Print out the median weight\n",
    "print(\"The median weight is: \"+ str(mean_height))\n",
    "\n",
    "# Print out the standard deviation of the height\n",
    "print(\"The standard deviation of the height is: \"+ str(std_hight))"
   ]
  },
  {
   "cell_type": "markdown",
   "metadata": {},
   "source": [
    "### Dictionaries & Pandas\n",
    "[[ go back to the top ]](#Introduction)\n",
    "\n",
    "#### Dictionaries\n",
    "Dictionaries are used to store data values in key:value pairs. Use following code to create a dictionary:\n",
    "\n",
    "```python\n",
    "my_dict = {\n",
    "   \"key1\":\"value1\",\n",
    "   \"key2\":\"value2\",\n",
    "}\n",
    "```"
   ]
  },
  {
   "cell_type": "code",
   "execution_count": 13,
   "metadata": {},
   "outputs": [
    {
     "name": "stdout",
     "output_type": "stream",
     "text": [
      "paris\n",
      "{'spain': 'madrid', 'france': 'paris', 'germany': 'berlin', 'norway': 'oslo'}\n"
     ]
    }
   ],
   "source": [
    "# Definition of countries and capital\n",
    "countries = ['spain', 'france', 'germany', 'norway']\n",
    "capitals = ['madrid', 'paris', 'berlin', 'oslo']\n",
    "\n",
    "# Get the index of france\n",
    "france_index = countries.index('france')\n",
    "\n",
    "# Get the capital of france\n",
    "france_capital = capitals[france_index]\n",
    "\n",
    "# Print the capital of France\n",
    "print(france_capital)\n",
    "\n",
    "# From string in countries and capitals, create dictionary europe\n",
    "europe = {'spain':'madrid', 'france':'paris', 'germany':'berlin', 'norway':'oslo' }\n",
    "\n",
    "# Print europe\n",
    "print(europe)"
   ]
  },
  {
   "cell_type": "markdown",
   "metadata": {},
   "source": [
    "If the keys of a dictionary are chosen wisely, accessing the values in a dictionary is easy and intuitive. For example, to get the capital for France from europe you can use:\n",
    "\n",
    "```python\n",
    "europe['france']\n",
    "```\n",
    "\n",
    "Here, `'france'` is the key and `'paris'` the value is returned."
   ]
  },
  {
   "cell_type": "code",
   "execution_count": 14,
   "metadata": {},
   "outputs": [
    {
     "name": "stdout",
     "output_type": "stream",
     "text": [
      "dict_keys(['spain', 'france', 'germany', 'norway'])\n",
      "oslo\n"
     ]
    }
   ],
   "source": [
    "# Definition of dictionary\n",
    "europe = {'spain':'madrid', 'france':'paris', 'germany':'berlin', 'norway':'oslo' }\n",
    "\n",
    "# Print out the keys in europe\n",
    "print(europe.keys())\n",
    "\n",
    "# Print out value that belongs to key 'norway'\n",
    "print(europe['norway'])"
   ]
  },
  {
   "cell_type": "markdown",
   "metadata": {},
   "source": [
    "If you know how to access a dictionary, you can also assign a new value to it. To add a new key-value pair to europe you can use something like this:\n",
    "\n",
    "```python\n",
    "europe['iceland'] = 'reykjavik'\n",
    "```"
   ]
  },
  {
   "cell_type": "code",
   "execution_count": 15,
   "metadata": {},
   "outputs": [
    {
     "name": "stdout",
     "output_type": "stream",
     "text": [
      "True\n",
      "{'spain': 'madrid', 'france': 'paris', 'germany': 'berlin', 'norway': 'oslo', 'italy': 'rome', 'poland': 'warsaw'}\n"
     ]
    }
   ],
   "source": [
    "# Definition of dictionary\n",
    "europe = {'spain':'madrid', 'france':'paris', 'germany':'berlin', 'norway':'oslo' }\n",
    "\n",
    "# Add italy to europe\n",
    "europe['italy'] = 'rome'\n",
    "\n",
    "# Print out italy in europe\n",
    "print(\"italy\" in europe)\n",
    "\n",
    "# Add poland to europe\n",
    "europe['poland'] = 'warsaw'\n",
    "\n",
    "# Print europe\n",
    "print(europe)"
   ]
  },
  {
   "cell_type": "markdown",
   "metadata": {},
   "source": [
    "Somebody thought it would be funny to mess with your accurately generated dictionary. An adapted version of the europe dictionary is available in the script. Can you clean up? Do not do this by adapting the definition of `europe`, but by adding Python commands to the script to update and remove key:value pairs."
   ]
  },
  {
   "cell_type": "code",
   "execution_count": 16,
   "metadata": {},
   "outputs": [
    {
     "name": "stdout",
     "output_type": "stream",
     "text": [
      "{'spain': 'madrid', 'france': 'paris', 'germany': 'berlin', 'norway': 'oslo', 'italy': 'rome', 'poland': 'warsaw'}\n"
     ]
    }
   ],
   "source": [
    "# Definition of dictionary\n",
    "europe = {'spain':'madrid', 'france':'paris', 'germany':'bonn',\n",
    "          'norway':'oslo', 'italy':'rome', 'poland':'warsaw',\n",
    "          'australia':'vienna' }\n",
    "\n",
    "# Update capital of germany\n",
    "europe[\"germany\"] = \"berlin\"\n",
    "\n",
    "# Remove australia\n",
    "del(europe[\"australia\"])\n",
    "\n",
    "# Print europe\n",
    "print(europe)"
   ]
  },
  {
   "cell_type": "markdown",
   "metadata": {},
   "source": [
    "#### Pandas\n",
    "Pandas is an open source library, providing high-performance, easy-to-use data structures and data analysis tools for Python. Sounds promising!\n",
    "\n",
    "The DataFrame is one of Pandas' most important data structures. It's basically a way to store tabular data where you can label the rows and the columns. One way to build a DataFrame is from a dictionary."
   ]
  },
  {
   "cell_type": "code",
   "execution_count": 17,
   "metadata": {},
   "outputs": [
    {
     "name": "stdout",
     "output_type": "stream",
     "text": [
      "         country  drives_right  cars_per_cap\n",
      "0  United States          True           809\n",
      "1      Australia         False           731\n",
      "2          Japan         False           588\n",
      "3          India         False            18\n",
      "4         Russia          True           200\n",
      "5        Morocco          True            70\n",
      "6          Egypt          True            45\n"
     ]
    }
   ],
   "source": [
    "# Pre-defined lists\n",
    "names = ['United States', 'Australia', 'Japan', 'India', 'Russia', 'Morocco', 'Egypt']\n",
    "dr =  [True, False, False, False, True, True, True]\n",
    "cpc = [809, 731, 588, 18, 200, 70, 45]\n",
    "\n",
    "# Import pandas as pd\n",
    "import pandas as pd\n",
    "\n",
    "# Create dictionary my_dict with three key:value pairs: my_dict\n",
    "my_dict = {\"country\" : names, \"drives_right\" : dr, \"cars_per_cap\" : cpc}\n",
    "\n",
    "# Build a DataFrame cars from my_dict: cars\n",
    "cars = pd.DataFrame(my_dict)\n",
    "\n",
    "# Print cars\n",
    "print(cars)"
   ]
  },
  {
   "cell_type": "markdown",
   "metadata": {},
   "source": [
    "The Python code that solves the previous exercise is included in the script. Have you noticed that the `row labels` (i.e. the labels for the different observations) were automatically set to integers from 0 up to 6?\n",
    "\n",
    "To solve this a list row_labels has been created. You can use it to specify the row labels of the `cars` DataFrame. You do this by setting the `index` attribute of `cars`, that you can access as `cars.index`."
   ]
  },
  {
   "cell_type": "code",
   "execution_count": 18,
   "metadata": {},
   "outputs": [
    {
     "name": "stdout",
     "output_type": "stream",
     "text": [
      "         country  drives_right  cars_per_cap\n",
      "0  United States          True           809\n",
      "1      Australia         False           731\n",
      "2          Japan         False           588\n",
      "3          India         False            18\n",
      "4         Russia          True           200\n",
      "5        Morocco          True            70\n",
      "6          Egypt          True            45\n",
      "           country  drives_right  cars_per_cap\n",
      "US   United States          True           809\n",
      "AUS      Australia         False           731\n",
      "JPN          Japan         False           588\n",
      "IN           India         False            18\n",
      "RU          Russia          True           200\n",
      "MOR        Morocco          True            70\n",
      "EG           Egypt          True            45\n"
     ]
    }
   ],
   "source": [
    "import pandas as pd\n",
    "\n",
    "# Build cars DataFrame\n",
    "names = ['United States', 'Australia', 'Japan', 'India', 'Russia', 'Morocco', 'Egypt']\n",
    "dr =  [True, False, False, False, True, True, True]\n",
    "cpc = [809, 731, 588, 18, 200, 70, 45]\n",
    "cars_dict = { 'country' : names, 'drives_right' : dr, 'cars_per_cap' : cpc }\n",
    "cars = pd.DataFrame(cars_dict)\n",
    "print(cars)\n",
    "\n",
    "# Definition of row_labels\n",
    "row_labels = ['US', 'AUS', 'JPN', 'IN', 'RU', 'MOR', 'EG']\n",
    "\n",
    "# Specify row labels of cars\n",
    "cars.index = row_labels\n",
    "\n",
    "# Print cars again\n",
    "print(cars)"
   ]
  },
  {
   "cell_type": "markdown",
   "metadata": {},
   "source": [
    "Putting data in a dictionary and then building a DataFrame works, but it's not very efficient. What if you're dealing with millions of observations? In those cases, the data is typically available as files with a regular structure. One of those file types is the CSV file, which is short for \"comma-separated values\".\n",
    "\n",
    "To import CSV data into Python as a Pandas DataFrame you can use `read_csv()`.\n",
    "\n",
    "Let's explore this function with the same cars data from the previous exercises. This time, however, the data is available in a CSV file, named `cars.csv`. It is available in your current working directory, so the path to the file is simply `'cars.csv'`."
   ]
  },
  {
   "cell_type": "code",
   "execution_count": 19,
   "metadata": {},
   "outputs": [
    {
     "data": {
      "text/html": [
       "<div>\n",
       "<style scoped>\n",
       "    .dataframe tbody tr th:only-of-type {\n",
       "        vertical-align: middle;\n",
       "    }\n",
       "\n",
       "    .dataframe tbody tr th {\n",
       "        vertical-align: top;\n",
       "    }\n",
       "\n",
       "    .dataframe thead th {\n",
       "        text-align: right;\n",
       "    }\n",
       "</style>\n",
       "<table border=\"1\" class=\"dataframe\">\n",
       "  <thead>\n",
       "    <tr style=\"text-align: right;\">\n",
       "      <th></th>\n",
       "      <th>Unnamed: 0</th>\n",
       "      <th>cars_per_cap</th>\n",
       "      <th>country</th>\n",
       "      <th>drives_right</th>\n",
       "    </tr>\n",
       "  </thead>\n",
       "  <tbody>\n",
       "    <tr>\n",
       "      <th>0</th>\n",
       "      <td>US</td>\n",
       "      <td>809</td>\n",
       "      <td>United States</td>\n",
       "      <td>True</td>\n",
       "    </tr>\n",
       "    <tr>\n",
       "      <th>1</th>\n",
       "      <td>AUS</td>\n",
       "      <td>731</td>\n",
       "      <td>Australia</td>\n",
       "      <td>False</td>\n",
       "    </tr>\n",
       "    <tr>\n",
       "      <th>2</th>\n",
       "      <td>JAP</td>\n",
       "      <td>588</td>\n",
       "      <td>Japan</td>\n",
       "      <td>False</td>\n",
       "    </tr>\n",
       "    <tr>\n",
       "      <th>3</th>\n",
       "      <td>IN</td>\n",
       "      <td>18</td>\n",
       "      <td>India</td>\n",
       "      <td>False</td>\n",
       "    </tr>\n",
       "    <tr>\n",
       "      <th>4</th>\n",
       "      <td>RU</td>\n",
       "      <td>200</td>\n",
       "      <td>Russia</td>\n",
       "      <td>True</td>\n",
       "    </tr>\n",
       "    <tr>\n",
       "      <th>5</th>\n",
       "      <td>MOR</td>\n",
       "      <td>70</td>\n",
       "      <td>Morocco</td>\n",
       "      <td>True</td>\n",
       "    </tr>\n",
       "    <tr>\n",
       "      <th>6</th>\n",
       "      <td>EG</td>\n",
       "      <td>45</td>\n",
       "      <td>Egypt</td>\n",
       "      <td>True</td>\n",
       "    </tr>\n",
       "  </tbody>\n",
       "</table>\n",
       "</div>"
      ],
      "text/plain": [
       "  Unnamed: 0  cars_per_cap        country  drives_right\n",
       "0         US           809  United States          True\n",
       "1        AUS           731      Australia         False\n",
       "2        JAP           588          Japan         False\n",
       "3         IN            18          India         False\n",
       "4         RU           200         Russia          True\n",
       "5        MOR            70        Morocco          True\n",
       "6         EG            45          Egypt          True"
      ]
     },
     "execution_count": 19,
     "metadata": {},
     "output_type": "execute_result"
    }
   ],
   "source": [
    "# Import pandas as pd\n",
    "import pandas as pd\n",
    "\n",
    "# Import the cars.csv data: cars\n",
    "cars = pd.read_csv(\"https://assets.datacamp.com/production/repositories/287/datasets/79b3c22c47a2f45a800c62cae39035ff2ea4e609/cars.csv\")\n",
    "\n",
    "# Print out cars\n",
    "cars"
   ]
  },
  {
   "cell_type": "markdown",
   "metadata": {},
   "source": [
    "Your `read_csv()` call to import the CSV data didn't generate an error, but the output is not entirely what we wanted. The row labels were imported as another column without a name.\n",
    "\n",
    "Remember `index_col`, an argument of `read_csv()`, that you can use to specify which column in the CSV file should be used as a row label? Well, that's exactly what you need here!\n",
    "\n",
    "Python code that solves the previous exercise is already included; can you make the appropriate changes to fix the data import?"
   ]
  },
  {
   "cell_type": "code",
   "execution_count": 20,
   "metadata": {
    "scrolled": true
   },
   "outputs": [
    {
     "data": {
      "text/html": [
       "<div>\n",
       "<style scoped>\n",
       "    .dataframe tbody tr th:only-of-type {\n",
       "        vertical-align: middle;\n",
       "    }\n",
       "\n",
       "    .dataframe tbody tr th {\n",
       "        vertical-align: top;\n",
       "    }\n",
       "\n",
       "    .dataframe thead th {\n",
       "        text-align: right;\n",
       "    }\n",
       "</style>\n",
       "<table border=\"1\" class=\"dataframe\">\n",
       "  <thead>\n",
       "    <tr style=\"text-align: right;\">\n",
       "      <th></th>\n",
       "      <th>cars_per_cap</th>\n",
       "      <th>country</th>\n",
       "      <th>drives_right</th>\n",
       "    </tr>\n",
       "  </thead>\n",
       "  <tbody>\n",
       "    <tr>\n",
       "      <th>US</th>\n",
       "      <td>809</td>\n",
       "      <td>United States</td>\n",
       "      <td>True</td>\n",
       "    </tr>\n",
       "    <tr>\n",
       "      <th>AUS</th>\n",
       "      <td>731</td>\n",
       "      <td>Australia</td>\n",
       "      <td>False</td>\n",
       "    </tr>\n",
       "    <tr>\n",
       "      <th>JAP</th>\n",
       "      <td>588</td>\n",
       "      <td>Japan</td>\n",
       "      <td>False</td>\n",
       "    </tr>\n",
       "    <tr>\n",
       "      <th>IN</th>\n",
       "      <td>18</td>\n",
       "      <td>India</td>\n",
       "      <td>False</td>\n",
       "    </tr>\n",
       "    <tr>\n",
       "      <th>RU</th>\n",
       "      <td>200</td>\n",
       "      <td>Russia</td>\n",
       "      <td>True</td>\n",
       "    </tr>\n",
       "    <tr>\n",
       "      <th>MOR</th>\n",
       "      <td>70</td>\n",
       "      <td>Morocco</td>\n",
       "      <td>True</td>\n",
       "    </tr>\n",
       "    <tr>\n",
       "      <th>EG</th>\n",
       "      <td>45</td>\n",
       "      <td>Egypt</td>\n",
       "      <td>True</td>\n",
       "    </tr>\n",
       "  </tbody>\n",
       "</table>\n",
       "</div>"
      ],
      "text/plain": [
       "     cars_per_cap        country  drives_right\n",
       "US            809  United States          True\n",
       "AUS           731      Australia         False\n",
       "JAP           588          Japan         False\n",
       "IN             18          India         False\n",
       "RU            200         Russia          True\n",
       "MOR            70        Morocco          True\n",
       "EG             45          Egypt          True"
      ]
     },
     "execution_count": 20,
     "metadata": {},
     "output_type": "execute_result"
    }
   ],
   "source": [
    "# Import pandas as pd\n",
    "import pandas as pd\n",
    "\n",
    "# Fix import by including index_col\n",
    "cars = pd.read_csv(\"https://assets.datacamp.com/production/repositories/287/datasets/79b3c22c47a2f45a800c62cae39035ff2ea4e609/cars.csv\", index_col = 0)\n",
    "\n",
    "# Print out cars\n",
    "cars"
   ]
  },
  {
   "cell_type": "markdown",
   "metadata": {},
   "source": [
    "In the sample code, the same cars data is imported from a CSV files as a Pandas DataFrame. To select only the cars_per_cap column from cars, you can use:\n",
    "\n",
    "```python\n",
    "cars['cars_per_cap']\n",
    "cars[['cars_per_cap']]\n",
    "```\n",
    "\n",
    "The single bracket version gives a **Pandas Series**, the double bracket version gives a Pandas DataFrame."
   ]
  },
  {
   "cell_type": "code",
   "execution_count": 21,
   "metadata": {},
   "outputs": [
    {
     "data": {
      "text/html": [
       "<div>\n",
       "<style scoped>\n",
       "    .dataframe tbody tr th:only-of-type {\n",
       "        vertical-align: middle;\n",
       "    }\n",
       "\n",
       "    .dataframe tbody tr th {\n",
       "        vertical-align: top;\n",
       "    }\n",
       "\n",
       "    .dataframe thead th {\n",
       "        text-align: right;\n",
       "    }\n",
       "</style>\n",
       "<table border=\"1\" class=\"dataframe\">\n",
       "  <thead>\n",
       "    <tr style=\"text-align: right;\">\n",
       "      <th></th>\n",
       "      <th>country</th>\n",
       "      <th>drives_right</th>\n",
       "    </tr>\n",
       "  </thead>\n",
       "  <tbody>\n",
       "    <tr>\n",
       "      <th>US</th>\n",
       "      <td>United States</td>\n",
       "      <td>True</td>\n",
       "    </tr>\n",
       "    <tr>\n",
       "      <th>AUS</th>\n",
       "      <td>Australia</td>\n",
       "      <td>False</td>\n",
       "    </tr>\n",
       "    <tr>\n",
       "      <th>JAP</th>\n",
       "      <td>Japan</td>\n",
       "      <td>False</td>\n",
       "    </tr>\n",
       "    <tr>\n",
       "      <th>IN</th>\n",
       "      <td>India</td>\n",
       "      <td>False</td>\n",
       "    </tr>\n",
       "    <tr>\n",
       "      <th>RU</th>\n",
       "      <td>Russia</td>\n",
       "      <td>True</td>\n",
       "    </tr>\n",
       "    <tr>\n",
       "      <th>MOR</th>\n",
       "      <td>Morocco</td>\n",
       "      <td>True</td>\n",
       "    </tr>\n",
       "    <tr>\n",
       "      <th>EG</th>\n",
       "      <td>Egypt</td>\n",
       "      <td>True</td>\n",
       "    </tr>\n",
       "  </tbody>\n",
       "</table>\n",
       "</div>"
      ],
      "text/plain": [
       "           country  drives_right\n",
       "US   United States          True\n",
       "AUS      Australia         False\n",
       "JAP          Japan         False\n",
       "IN           India         False\n",
       "RU          Russia          True\n",
       "MOR        Morocco          True\n",
       "EG           Egypt          True"
      ]
     },
     "execution_count": 21,
     "metadata": {},
     "output_type": "execute_result"
    }
   ],
   "source": [
    "# Import cars data\n",
    "import pandas as pd\n",
    "cars = pd.read_csv(\"https://assets.datacamp.com/production/repositories/287/datasets/79b3c22c47a2f45a800c62cae39035ff2ea4e609/cars.csv\", index_col = 0)\n",
    "\n",
    "# Print out country column as Pandas Series\n",
    "cars['country']\n",
    "\n",
    "# Print out country column as Pandas DataFrame\n",
    "cars[['country']]\n",
    "\n",
    "# Print out DataFrame with country and drives_right columns\n",
    "cars[['country', 'drives_right']]"
   ]
  },
  {
   "cell_type": "markdown",
   "metadata": {},
   "source": [
    "With `loc` and `iloc` you can do practically any data selection operation on DataFrames you can think of. `loc` is label-based, which means that you have to specify rows and columns based on their row and column labels. `iloc` is integer index based, so you have to specify rows and columns by their integer index.\n",
    "\n",
    "Try out the following commands in the IPython Shell to experiment with `loc` and `iloc` to select observations. Each pair of commands here gives the same result.\n",
    "\n",
    "```python\n",
    "cars.loc['RU']\n",
    "cars.iloc[4]\n",
    "\n",
    "cars.loc[['RU']]\n",
    "cars.iloc[[4]]\n",
    "\n",
    "cars.loc[['RU', 'AUS']]\n",
    "cars.iloc[[4, 1]]\n",
    "```"
   ]
  },
  {
   "cell_type": "code",
   "execution_count": 22,
   "metadata": {},
   "outputs": [
    {
     "data": {
      "text/html": [
       "<div>\n",
       "<style scoped>\n",
       "    .dataframe tbody tr th:only-of-type {\n",
       "        vertical-align: middle;\n",
       "    }\n",
       "\n",
       "    .dataframe tbody tr th {\n",
       "        vertical-align: top;\n",
       "    }\n",
       "\n",
       "    .dataframe thead th {\n",
       "        text-align: right;\n",
       "    }\n",
       "</style>\n",
       "<table border=\"1\" class=\"dataframe\">\n",
       "  <thead>\n",
       "    <tr style=\"text-align: right;\">\n",
       "      <th></th>\n",
       "      <th>cars_per_cap</th>\n",
       "      <th>country</th>\n",
       "      <th>drives_right</th>\n",
       "    </tr>\n",
       "  </thead>\n",
       "  <tbody>\n",
       "    <tr>\n",
       "      <th>AUS</th>\n",
       "      <td>731</td>\n",
       "      <td>Australia</td>\n",
       "      <td>False</td>\n",
       "    </tr>\n",
       "    <tr>\n",
       "      <th>EG</th>\n",
       "      <td>45</td>\n",
       "      <td>Egypt</td>\n",
       "      <td>True</td>\n",
       "    </tr>\n",
       "  </tbody>\n",
       "</table>\n",
       "</div>"
      ],
      "text/plain": [
       "     cars_per_cap    country  drives_right\n",
       "AUS           731  Australia         False\n",
       "EG             45      Egypt          True"
      ]
     },
     "execution_count": 22,
     "metadata": {},
     "output_type": "execute_result"
    }
   ],
   "source": [
    "# Print out observation for Japan\n",
    "cars.loc[\"JAP\"]\n",
    "\n",
    "# Print out observations for Australia and Egypt\n",
    "cars.loc[[\"AUS\", \"EG\"]]"
   ]
  },
  {
   "cell_type": "markdown",
   "metadata": {},
   "source": [
    "`loc` and `iloc` also allow you to select both rows and columns from a DataFrame. To experiment, try out the following commands in the IPython Shell. Again, paired commands produce the same result.\n",
    "\n",
    "```python\n",
    "cars.loc['IN', 'cars_per_cap']\n",
    "cars.iloc[3, 0]\n",
    "\n",
    "cars.loc[['IN', 'RU'], 'cars_per_cap']\n",
    "cars.iloc[[3, 4], 0]\n",
    "\n",
    "cars.loc[['IN', 'RU'], ['cars_per_cap', 'country']]\n",
    "cars.iloc[[3, 4], [0, 1]]\n",
    "```"
   ]
  },
  {
   "cell_type": "code",
   "execution_count": 23,
   "metadata": {},
   "outputs": [
    {
     "data": {
      "text/html": [
       "<div>\n",
       "<style scoped>\n",
       "    .dataframe tbody tr th:only-of-type {\n",
       "        vertical-align: middle;\n",
       "    }\n",
       "\n",
       "    .dataframe tbody tr th {\n",
       "        vertical-align: top;\n",
       "    }\n",
       "\n",
       "    .dataframe thead th {\n",
       "        text-align: right;\n",
       "    }\n",
       "</style>\n",
       "<table border=\"1\" class=\"dataframe\">\n",
       "  <thead>\n",
       "    <tr style=\"text-align: right;\">\n",
       "      <th></th>\n",
       "      <th>country</th>\n",
       "      <th>drives_right</th>\n",
       "    </tr>\n",
       "  </thead>\n",
       "  <tbody>\n",
       "    <tr>\n",
       "      <th>RU</th>\n",
       "      <td>Russia</td>\n",
       "      <td>True</td>\n",
       "    </tr>\n",
       "    <tr>\n",
       "      <th>MOR</th>\n",
       "      <td>Morocco</td>\n",
       "      <td>True</td>\n",
       "    </tr>\n",
       "  </tbody>\n",
       "</table>\n",
       "</div>"
      ],
      "text/plain": [
       "     country  drives_right\n",
       "RU    Russia          True\n",
       "MOR  Morocco          True"
      ]
     },
     "execution_count": 23,
     "metadata": {},
     "output_type": "execute_result"
    }
   ],
   "source": [
    "# Print out drives_right value of Morocco\n",
    "cars.loc[[\"MOR\"], [\"drives_right\"]]\n",
    "\n",
    "# Print sub-DataFrame\n",
    "cars.loc[[\"RU\", \"MOR\"], [\"country\", \"drives_right\"]]"
   ]
  },
  {
   "cell_type": "markdown",
   "metadata": {},
   "source": [
    "### Matplotlib\n",
    "With matplotlib, you can create a bunch of different plots in Python. The most basic plot is the line plot. A general recipe is given here.\n",
    "\n",
    "```python\n",
    "import matplotlib.pyplot as plt\n",
    "plt.plot(x,y)\n",
    "plt.show()\n",
    "```\n",
    "\n"
   ]
  },
  {
   "cell_type": "code",
   "execution_count": 24,
   "metadata": {},
   "outputs": [
    {
     "data": {
      "image/png": "[encoded data removed]",
      "text/plain": [
       "<Figure size 432x288 with 1 Axes>"
      ]
     },
     "metadata": {
      "needs_background": "light"
     },
     "output_type": "display_data"
    }
   ],
   "source": [
    "# Import matplotlib.pyplot as plt\n",
    "import matplotlib.pyplot as plt\n",
    "\n",
    "# Built gapminder dataset\n",
    "year = [1950, 1970, 1990, 2010]\n",
    "pop = [2.519, 3.692, 5.263, 6.972]\n",
    "\n",
    "# Make a line plot: year on the x-axis, pop on the y-axis\n",
    "plt.plot(year, pop)\n",
    "\n",
    "# Display the plot with plt.show()\n",
    "plt.show()"
   ]
  },
  {
   "cell_type": "markdown",
   "metadata": {},
   "source": [
    "When you have a time scale along the horizontal axis, the line plot is your friend. But in many other cases, when you're trying to assess if there's a correlation between two variables, for example, the scatter plot is the better choice. Below is an example of how to build a scatter plot.\n",
    "\n",
    "```python\n",
    "import matplotlib.pyplot as plt\n",
    "plt.scatter(x,y)\n",
    "plt.show()\n",
    "```"
   ]
  },
  {
   "cell_type": "code",
   "execution_count": 25,
   "metadata": {},
   "outputs": [
    {
     "data": {
      "image/png": "[encoded data removed]",
      "text/plain": [
       "<Figure size 432x288 with 1 Axes>"
      ]
     },
     "metadata": {
      "needs_background": "light"
     },
     "output_type": "display_data"
    }
   ],
   "source": [
    "# Import matplotlib.pyplot as plt\n",
    "import matplotlib.pyplot as plt\n",
    "\n",
    "# Built gapminder dataset\n",
    "year = [1950, 1970, 1990, 2010]\n",
    "pop = [2.519, 3.692, 5.263, 6.972]\n",
    "\n",
    "# Make a line plot: year on the x-axis, pop on the y-axis\n",
    "plt.scatter(year, pop)\n",
    "\n",
    "# Display the plot with plt.show()\n",
    "plt.show()"
   ]
  },
  {
   "cell_type": "markdown",
   "metadata": {},
   "source": [
    "Now that you've built your first line plot, let's start working on the data that professor Hans Rosling used to build his beautiful bubble chart. It was collected in 2007. Two lists are available for you:\n",
    "\n",
    "- `life_exp` which contains the life expectancy for each country\n",
    "- `gdp_cap`, which contains the GDP per capita (i.e. per person) for each country expressed in US Dollars.\n",
    "\n",
    "GDP stands for Gross Domestic Product. It basically represents the size of the economy of a country. Divide this by the population and you get the GDP per capita."
   ]
  },
  {
   "cell_type": "code",
   "execution_count": 26,
   "metadata": {
    "code_folding": []
   },
   "outputs": [
    {
     "data": {
      "image/png": "[encoded data removed]",
      "text/plain": [
       "<Figure size 432x288 with 1 Axes>"
      ]
     },
     "metadata": {
      "needs_background": "light"
     },
     "output_type": "display_data"
    }
   ],
   "source": [
    "# Import the gapminder dataset\n",
    "data = pd.read_csv(\"https://assets.datacamp.com/production/repositories/287/datasets/5b1e4356f9fa5b5ce32e9bd2b75c777284819cca/gapminder.csv\", index_col = 0)\n",
    "\n",
    "# Make a line plot, gdp_cap on the x-axis, life_exp on the y-axis\n",
    "plt.plot(data[\"gdp_cap\"], data[\"life_exp\"])\n",
    "\n",
    "# Display the plot\n",
    "plt.show()"
   ]
  },
  {
   "cell_type": "markdown",
   "metadata": {},
   "source": [
    "When you have a time scale along the horizontal axis, the line plot is your friend. But in many other cases, when you're trying to assess if there's a correlation between two variables, for example, the scatter plot is the better choice. Below is an example of how to build a scatter plot.\n",
    "\n",
    "```python\n",
    "import matplotlib.pyplot as plt\n",
    "plt.scatter(x,y)\n",
    "plt.show()\n",
    "```"
   ]
  },
  {
   "cell_type": "code",
   "execution_count": 27,
   "metadata": {},
   "outputs": [
    {
     "data": {
      "image/png": "[encoded data removed]",
      "text/plain": [
       "<Figure size 432x288 with 1 Axes>"
      ]
     },
     "metadata": {
      "needs_background": "light"
     },
     "output_type": "display_data"
    }
   ],
   "source": [
    "# Change the line plot below to a scatter plot\n",
    "plt.scatter(data[\"gdp_cap\"], data[\"life_exp\"])\n",
    "\n",
    "# Put the x-axis on a logarithmic scale\n",
    "plt.xscale('log')\n",
    "\n",
    "# Show plot\n",
    "plt.show()"
   ]
  },
  {
   "cell_type": "markdown",
   "metadata": {},
   "source": [
    "In the previous exercise, you saw that the higher GDP usually corresponds to a higher life expectancy. In other words, there is a positive correlation.\n",
    "\n",
    "Do you think there's a relationship between population and life expectancy of a country? The list `life_exp` from the previous exercise is already available. In addition, now also `pop` is available, listing the corresponding populations for the countries in 2007. The populations are in millions of people."
   ]
  },
  {
   "cell_type": "code",
   "execution_count": 28,
   "metadata": {},
   "outputs": [
    {
     "data": {
      "image/png": "[encoded data removed]",
      "text/plain": [
       "<Figure size 432x288 with 1 Axes>"
      ]
     },
     "metadata": {
      "needs_background": "light"
     },
     "output_type": "display_data"
    }
   ],
   "source": [
    "# Import package\n",
    "import matplotlib.pyplot as plt\n",
    "\n",
    "# Build Scatter plot\n",
    "plt.scatter(data[\"population\"], data[\"life_exp\"])\n",
    "\n",
    "# Show plot\n",
    "plt.show()"
   ]
  },
  {
   "cell_type": "markdown",
   "metadata": {},
   "source": [
    "#### Histogram\n",
    "\n",
    "`life_exp`, the list containing data on the life expectancy for different countries in 2007, is available in your Python shell. To see how life expectancy in different countries is distributed, let's create a histogram of `life_exp`.\n"
   ]
  },
  {
   "cell_type": "code",
   "execution_count": 29,
   "metadata": {},
   "outputs": [
    {
     "data": {
      "image/png": "[encoded data removed]",
      "text/plain": [
       "<Figure size 432x288 with 1 Axes>"
      ]
     },
     "metadata": {
      "needs_background": "light"
     },
     "output_type": "display_data"
    }
   ],
   "source": [
    "# Create histogram of life_exp data\n",
    "plt.hist(data[\"life_exp\"], bins = 15)\n",
    "\n",
    "# Display histogram\n",
    "plt.show()"
   ]
  },
  {
   "cell_type": "markdown",
   "metadata": {},
   "source": [
    "#### Customization\n",
    "It's time to customize your own plot. This is the fun part, you will see your plot come to life!\n",
    "\n",
    "You're going to work on the scatter plot with world development data: GDP per capita on the x-axis (logarithmic scale), life expectancy on the y-axis. The code for this plot is available in the script.\n",
    "\n",
    "As a first step, let's add axis labels and a title to the plot. You can do this with the `xlabel()`, `ylabel()` and `title()` functions, available in `matplotlib.pyplot`. This sub-package is already imported as `plt`"
   ]
  },
  {
   "cell_type": "code",
   "execution_count": 30,
   "metadata": {},
   "outputs": [
    {
     "data": {
      "image/png": "[encoded data removed]",
      "text/plain": [
       "<Figure size 432x288 with 1 Axes>"
      ]
     },
     "metadata": {
      "needs_background": "light"
     },
     "output_type": "display_data"
    }
   ],
   "source": [
    "# Basic scatter plot, log scale\n",
    "plt.scatter(data[\"gdp_cap\"], data[\"life_exp\"])\n",
    "plt.xscale('log') \n",
    "\n",
    "# Strings\n",
    "xlab = 'GDP per Capita [in USD]'\n",
    "ylab = 'Life Expectancy [in years]'\n",
    "title = 'World Development'\n",
    "\n",
    "# Add axis labels\n",
    "plt.xlabel(xlab)\n",
    "plt.ylabel(ylab)\n",
    "\n",
    "# Add title\n",
    "plt.title(title)\n",
    "\n",
    "# After customizing, display the plot\n",
    "plt.show()"
   ]
  },
  {
   "cell_type": "markdown",
   "metadata": {},
   "source": [
    "Right now, the scatter plot is just a cloud of blue dots, indistinguishable from each other. Let's change this. Wouldn't it be nice if the size of the dots corresponds to the population?"
   ]
  },
  {
   "cell_type": "code",
   "execution_count": 31,
   "metadata": {
    "scrolled": true
   },
   "outputs": [
    {
     "data": {
      "image/png": "[encoded data removed]",
      "text/plain": [
       "<Figure size 432x288 with 1 Axes>"
      ]
     },
     "metadata": {
      "needs_background": "light"
     },
     "output_type": "display_data"
    }
   ],
   "source": [
    "# Import numpy as np\n",
    "import numpy as np\n",
    "\n",
    "# Store pop as the population proportion of 1.000.000 people\n",
    "pop = data[\"population\"] / 1000000\n",
    "\n",
    "# Update: set s argument to np_pop\n",
    "plt.scatter(data[\"gdp_cap\"], data[\"life_exp\"], s = pop)\n",
    "\n",
    "# customizations\n",
    "plt.xscale('log') \n",
    "plt.xlabel('GDP per Capita [in USD]')\n",
    "plt.ylabel('Life Expectancy [in years]')\n",
    "plt.title('World Development')\n",
    "plt.xticks([1000, 10000, 100000],['1k', '10k', '100k'])\n",
    "\n",
    "# Display the plot\n",
    "plt.show()"
   ]
  },
  {
   "cell_type": "markdown",
   "metadata": {},
   "source": [
    "The next step is making the plot more colorful! To do this, a list col has been created for you. It's a list with a color for each corresponding country, depending on the continent the country is part of. \n",
    "\n",
    "How did we make the list `col` you ask? The Gapminder data contains a list continent with the continent each country belongs to. A dictionary is constructed that maps `continents` onto colors:\n",
    "\n",
    "```python\n",
    "dict = {\n",
    "    'Asia':'red',\n",
    "    'Europe':'green',\n",
    "    'Africa':'blue',\n",
    "    'Americas':'yellow',\n",
    "    'Oceania':'black'\n",
    "}\n",
    "```"
   ]
  },
  {
   "cell_type": "code",
   "execution_count": 32,
   "metadata": {
    "code_folding": [
     0
    ]
   },
   "outputs": [],
   "source": [
    "# Define color continent\n",
    "colors = []\n",
    "\n",
    "for continent in data[\"cont\"]:\n",
    "    if continent == \"Asia\":\n",
    "        colors.append(\"red\")\n",
    "    elif continent == \"Europe\":\n",
    "        colors.append(\"green\")\n",
    "    elif continent == \"Africa\":\n",
    "        colors.append(\"blue\")\n",
    "    elif continent == \"Americas\":\n",
    "        colors.append(\"yellow\")\n",
    "    else:\n",
    "        colors.append(\"black\") "
   ]
  },
  {
   "cell_type": "code",
   "execution_count": 33,
   "metadata": {},
   "outputs": [
    {
     "data": {
      "image/png": "[encoded data removed]",
      "text/plain": [
       "<Figure size 432x288 with 1 Axes>"
      ]
     },
     "metadata": {
      "needs_background": "light"
     },
     "output_type": "display_data"
    }
   ],
   "source": [
    "# Import numpy as np\n",
    "import numpy as np\n",
    "\n",
    "# Specify c and alpha inside plt.scatter()\n",
    "plt.scatter(data[\"gdp_cap\"], data[\"life_exp\"], s = pop, c = colors, alpha = 0.8)\n",
    "\n",
    "# Previous customizations\n",
    "plt.xscale('log') \n",
    "plt.xlabel('GDP per Capita [in USD]')\n",
    "plt.ylabel('Life Expectancy [in years]')\n",
    "plt.title('World Development')\n",
    "plt.xticks([1000,10000,100000], ['1k','10k','100k'])\n",
    "\n",
    "# Show the plot\n",
    "plt.show()"
   ]
  },
  {
   "cell_type": "markdown",
   "metadata": {},
   "source": [
    "If you have another look at the script, under # Additional Customizations, you'll see that there are two plt.text() functions now. They add the words \"India\" and \"China\" in the plot."
   ]
  },
  {
   "cell_type": "code",
   "execution_count": 34,
   "metadata": {},
   "outputs": [
    {
     "data": {
      "image/png": "[encoded data removed]",
      "text/plain": [
       "<Figure size 432x288 with 1 Axes>"
      ]
     },
     "metadata": {
      "needs_background": "light"
     },
     "output_type": "display_data"
    }
   ],
   "source": [
    "# Scatter plot\n",
    "plt.scatter(x = data[\"gdp_cap\"], y = data[\"life_exp\"], s = pop, c = colors, alpha = 0.8)\n",
    "\n",
    "# Previous customizations\n",
    "plt.xscale('log') \n",
    "plt.xlabel('GDP per Capita [in USD]')\n",
    "plt.ylabel('Life Expectancy [in years]')\n",
    "plt.title('World Development')\n",
    "plt.xticks([1000,10000,100000], ['1k','10k','100k'])\n",
    "\n",
    "# Additional customizations\n",
    "plt.text(1550, 71, 'India')\n",
    "plt.text(5700, 80, 'China')\n",
    "\n",
    "# Add grid() call\n",
    "plt.grid(True)\n",
    "\n",
    "# Show the plot\n",
    "plt.show()"
   ]
  },
  {
   "cell_type": "markdown",
   "metadata": {},
   "source": [
    "### Logic, Control Flow and Filtering"
   ]
  },
  {
   "cell_type": "markdown",
   "metadata": {},
   "source": [
    "To check if two Python values, or variables, are equal you can use `==`. To check for inequality, you need `!=`. As a refresher, have a look at the following examples that all result in `True`. Feel free to try them out in the IPython Shell.\n",
    "\n",
    "```python\n",
    "2 == (1 + 1)\n",
    "\"intermediate\" != \"python\"\n",
    "True != False\n",
    "\"Python\" != \"python\"\n",
    "```"
   ]
  },
  {
   "cell_type": "markdown",
   "metadata": {},
   "source": [
    "#### if, elif, else\n",
    "To experiment with if and else a bit, have a look at this code sample:\n",
    "\n",
    "```python\n",
    "area = 10.0\n",
    "if(area < 9) :\n",
    "    print(\"small\")\n",
    "elif(area < 12) :\n",
    "    print(\"medium\")\n",
    "else :\n",
    "    print(\"large\")\n",
    "```"
   ]
  },
  {
   "cell_type": "code",
   "execution_count": 35,
   "metadata": {
    "code_folding": []
   },
   "outputs": [
    {
     "name": "stdout",
     "output_type": "stream",
     "text": [
      "looking around in the bedroom.\n",
      "medium size, nice!\n"
     ]
    }
   ],
   "source": [
    "# Define variables\n",
    "room = \"bed\"\n",
    "area = 14.0\n",
    "\n",
    "# if-elif-else construct for room\n",
    "if room == \"kit\" :\n",
    "    print(\"looking around in the kitchen.\")\n",
    "elif room == \"bed\":\n",
    "    print(\"looking around in the bedroom.\")\n",
    "else :\n",
    "    print(\"looking around elsewhere.\")\n",
    "\n",
    "# if-elif-else construct for area\n",
    "if area > 15 :\n",
    "    print(\"big place!\")\n",
    "elif area > 10 :\n",
    "    print(\"medium size, nice!\")\n",
    "else :\n",
    "    print(\"pretty small.\")"
   ]
  },
  {
   "cell_type": "markdown",
   "metadata": {},
   "source": [
    "### Loops\n",
    "#### While loop"
   ]
  },
  {
   "cell_type": "markdown",
   "metadata": {},
   "source": [
    "The while loop is like a repeated if statement. The code is executed over and over again, as long as the condition is True. Have another look at its recipe.\n",
    "\n",
    "```python\n",
    "while condition :\n",
    "    expression\n",
    "```\n",
    "\n",
    "Can you tell how many printouts the following while loop will do?\n",
    "\n",
    "```python\n",
    "x = 1\n",
    "while x < 4 :\n",
    "    print(x)\n",
    "    x = x + 1\n",
    "```"
   ]
  },
  {
   "cell_type": "code",
   "execution_count": 36,
   "metadata": {},
   "outputs": [
    {
     "name": "stdout",
     "output_type": "stream",
     "text": [
      "correcting...\n",
      "-5\n",
      "correcting...\n",
      "-4\n",
      "correcting...\n",
      "-3\n",
      "correcting...\n",
      "-2\n",
      "correcting...\n",
      "-1\n",
      "correcting...\n",
      "0\n"
     ]
    }
   ],
   "source": [
    "# Initialize offset\n",
    "offset = -6\n",
    "\n",
    "# Code the while loop\n",
    "while offset != 0 :\n",
    "    print(\"correcting...\")\n",
    "    if offset > 0:\n",
    "      offset = offset - 1\n",
    "    else : \n",
    "      offset = offset + 1\n",
    "    print(offset)"
   ]
  },
  {
   "cell_type": "markdown",
   "metadata": {},
   "source": [
    "#### For Loop\n",
    "Have another look at the `for` loop \n",
    "\n",
    "```python\n",
    "fam = [1.73, 1.68, 1.71, 1.89]\n",
    "for height in fam : \n",
    "    print(height)\n",
    "```\n",
    "\n",
    "As usual, you simply have to indent the code with 4 spaces to tell Python which code should be executed in the for loop."
   ]
  },
  {
   "cell_type": "code",
   "execution_count": 37,
   "metadata": {},
   "outputs": [
    {
     "name": "stdout",
     "output_type": "stream",
     "text": [
      "11.25\n",
      "18.0\n",
      "20.0\n",
      "10.75\n",
      "9.5\n"
     ]
    }
   ],
   "source": [
    "# areas list\n",
    "areas = [11.25, 18.0, 20.0, 10.75, 9.50]\n",
    "\n",
    "# Code the for loop\n",
    "for x in areas:\n",
    "    print(x)"
   ]
  },
  {
   "cell_type": "markdown",
   "metadata": {},
   "source": [
    "Using a `for` loop to iterate over a list only gives you access to every list element in each run, one after the other. If you also want to access the index information, so where the list element you're iterating over is located, you can use `enumerate()`.\n",
    "\n",
    "As an example, have a look at how the `for` loop from the video was converted:\n",
    "\n",
    "```python\n",
    "fam = [1.73, 1.68, 1.71, 1.89]\n",
    "for index, height in enumerate(fam) :\n",
    "    print(\"person \" + str(index) + \": \" + str(height))\n",
    "```"
   ]
  },
  {
   "cell_type": "code",
   "execution_count": 38,
   "metadata": {},
   "outputs": [
    {
     "name": "stdout",
     "output_type": "stream",
     "text": [
      "room 0: 11.25\n",
      "room 1: 18.0\n",
      "room 2: 20.0\n",
      "room 3: 10.75\n",
      "room 4: 9.5\n"
     ]
    }
   ],
   "source": [
    "# areas list\n",
    "areas = [11.25, 18.0, 20.0, 10.75, 9.50]\n",
    "\n",
    "# Change for loop to use enumerate() and update print()\n",
    "for index, area in enumerate(areas) :\n",
    "    print(\"room \" + str(index) + \": \" + str(area))"
   ]
  }
 ],
 "metadata": {
  "colab": {
   "collapsed_sections": [
    "S-HzVT2tGk4u",
    "Yz1edwdZGk43",
    "I7ZQwOScGk44",
    "izpHlrLdGk45",
    "AvscvzbcGk4-"
   ],
   "name": "EHB Data science 1-solutions.ipynb",
   "provenance": []
  },
  "kernelspec": {
   "display_name": "Python 3 (ipykernel)",
   "language": "python",
   "name": "python3"
  },
  "language_info": {
   "codemirror_mode": {
    "name": "ipython",
    "version": 3
   },
   "file_extension": ".py",
   "mimetype": "text/x-python",
   "name": "python",
   "nbconvert_exporter": "python",
   "pygments_lexer": "ipython3",
   "version": "3.9.12"
  },
  "toc": {
   "base_numbering": 1,
   "nav_menu": {},
   "number_sections": true,
   "sideBar": true,
   "skip_h1_title": false,
   "title_cell": "Table of Contents",
   "title_sidebar": "Contents",
   "toc_cell": false,
   "toc_position": {
    "height": "calc(100% - 180px)",
    "left": "10px",
    "top": "150px",
    "width": "288px"
   },
   "toc_section_display": true,
   "toc_window_display": true
  }
 },
 "nbformat": 4,
 "nbformat_minor": 4
}
